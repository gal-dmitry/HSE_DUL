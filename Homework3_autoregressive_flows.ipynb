{
  "nbformat": 4,
  "nbformat_minor": 0,
  "metadata": {
    "colab": {
      "name": "Homework3_autoregressive_flows.ipynb",
      "provenance": [],
      "collapsed_sections": [],
      "toc_visible": true,
      "include_colab_link": true
    },
    "kernelspec": {
      "name": "python3",
      "display_name": "Python 3"
    }
  },
  "cells": [
    {
      "cell_type": "markdown",
      "metadata": {
        "id": "view-in-github",
        "colab_type": "text"
      },
      "source": [
        "<a href=\"https://colab.research.google.com/github/gal-dmitry/HSE_DUL/blob/hw_03/Homework3_autoregressive_flows.ipynb\" target=\"_parent\"><img src=\"https://colab.research.google.com/assets/colab-badge.svg\" alt=\"Open In Colab\"/></a>"
      ]
    },
    {
      "cell_type": "code",
      "metadata": {
        "id": "wUVy2glDtoaR",
        "colab": {
          "base_uri": "https://localhost:8080/"
        },
        "outputId": "4eec9ac8-b162-48e7-b0ac-5dbb7fb9a0e9"
      },
      "source": [
        "!if [ -d dul_2021 ]; then rm -Rf dul_2021; fi\n",
        "!git clone --single-branch https://github.com/GrigoryBartosh/dul_2021\n",
        "!pip install ./dul_2021"
      ],
      "execution_count": 1,
      "outputs": [
        {
          "output_type": "stream",
          "name": "stdout",
          "text": [
            "Cloning into 'dul_2021'...\n",
            "remote: Enumerating objects: 180, done.\u001b[K\n",
            "remote: Counting objects: 100% (180/180), done.\u001b[K\n",
            "remote: Compressing objects: 100% (113/113), done.\u001b[K\n",
            "remote: Total 180 (delta 78), reused 134 (delta 49), pack-reused 0\u001b[K\n",
            "Receiving objects: 100% (180/180), 28.64 MiB | 38.29 MiB/s, done.\n",
            "Resolving deltas: 100% (78/78), done.\n",
            "Processing ./dul_2021\n",
            "\u001b[33m  DEPRECATION: A future pip version will change local packages to be built in-place without first copying to a temporary directory. We recommend you use --use-feature=in-tree-build to test your packages with this new behavior before it becomes the default.\n",
            "   pip 21.3 will remove support for this functionality. You can find discussion regarding this at https://github.com/pypa/pip/issues/7555.\u001b[0m\n",
            "Building wheels for collected packages: dul-2021\n",
            "  Building wheel for dul-2021 (setup.py) ... \u001b[?25l\u001b[?25hdone\n",
            "  Created wheel for dul-2021: filename=dul_2021-0.1.0-py3-none-any.whl size=15097 sha256=8124e836cb139b89d89431fea81ea49e3cbadb46213cd0c6e960450b1b3ec233\n",
            "  Stored in directory: /tmp/pip-ephem-wheel-cache-kj3jdblc/wheels/55/59/29/0fb1c635652157734f4d741f32fc11979149684e83e919de06\n",
            "Successfully built dul-2021\n",
            "Installing collected packages: dul-2021\n",
            "Successfully installed dul-2021-0.1.0\n"
          ]
        }
      ]
    },
    {
      "cell_type": "code",
      "metadata": {
        "id": "ZHWosWrbpO5Y"
      },
      "source": [
        "from dul_2021.utils.hw3_utils import *"
      ],
      "execution_count": 2,
      "outputs": []
    },
    {
      "cell_type": "markdown",
      "metadata": {
        "id": "bk6l6G30tEIg"
      },
      "source": [
        "\n",
        "# Question 1: Autoregressive Flows for Images\n",
        "\n",
        "Adapt your PixelCNN implementation from Homework 2 and use it as an autoregressive flow model on the black-and-white shapes dataset. Using the base architecture from Homework 2 1(a), output a mixture of logistics or gaussians (instead of logits), whose CDF we will use as our flow for each dimension of x. \n",
        "\n",
        "Remember: you must dequantize the data and scale it between 0 and 1 for the autoregressive flow to have stable training. \n",
        "\n",
        "**You will provide these deliverables**\n",
        "\n",
        "1.   Over the course of training, record the average negative log-likelihood (nats / dim) of the training data (per minibatch) and test data (for your entire test set). Code is provided that automatically plots the training curves. **Make sure to account for any rescaling you do in your nats/dim.**\n",
        "2.   Report the final test set performance of your final model\n",
        "3. 100 samples from your autoregressive flow. Our plotting code will show your samples, with and without clipping and flooring (to remove the quantization). \n"
      ]
    },
    {
      "cell_type": "code",
      "metadata": {
        "id": "alF9C1t-tEys",
        "colab": {
          "base_uri": "https://localhost:8080/",
          "height": 264
        },
        "outputId": "eaea8093-68ef-4baa-8282-8cf023116122"
      },
      "source": [
        "visualize_q1_data()"
      ],
      "execution_count": 3,
      "outputs": [
        {
          "output_type": "display_data",
          "data": {
            "image/png": "[encoded data removed]",
            "text/plain": [
              "<Figure size 432x288 with 1 Axes>"
            ]
          },
          "metadata": {
            "needs_background": "light"
          }
        }
      ]
    },
    {
      "cell_type": "markdown",
      "metadata": {
        "id": "fHHxHqSJTSAa"
      },
      "source": [
        "### Solution\n",
        "Fill out the function below and return the necessary arguments. Feel free to create more cells if need be."
      ]
    },
    {
      "cell_type": "code",
      "metadata": {
        "colab": {
          "base_uri": "https://localhost:8080/"
        },
        "id": "i2jDZG1GWlyv",
        "outputId": "b3ff133a-3761-4699-83f1-ce85641b3c09"
      },
      "source": [
        "from torch import nn\n",
        "from torch.utils.data import DataLoader\n",
        "from torch.nn.utils import clip_grad_norm_\n",
        "from torch.optim import Adam\n",
        "import torch \n",
        "\n",
        "from tqdm import tqdm\n",
        "\n",
        "device = torch.device(\"cuda\" if torch.cuda.is_available() else \"cpu\")\n",
        "device"
      ],
      "execution_count": 4,
      "outputs": [
        {
          "output_type": "execute_result",
          "data": {
            "text/plain": [
              "device(type='cpu')"
            ]
          },
          "metadata": {},
          "execution_count": 4
        }
      ]
    },
    {
      "cell_type": "code",
      "metadata": {
        "id": "0r4FuxbHWG7k"
      },
      "source": [
        "class MaskedConv(nn.Conv2d):\n",
        "    def __init__(self, *args, **kwargs):\n",
        "        super().__init__(*args, **kwargs)\n",
        "        mask = torch.zeros_like(self.weight)\n",
        "        self.register_buffer(\"mask\", mask)\n",
        "        self.set_mask()\n",
        "\n",
        "    def set_mask(self):\n",
        "        raise NotImplementedError()\n",
        "\n",
        "    def forward(self, x):\n",
        "        return F.conv2d(x, self.mask * self.weight, \n",
        "                        bias=self.bias,\n",
        "                        stride=self.stride,\n",
        "                        padding=self.padding)\n",
        "        \n",
        "\n",
        "class ConvA(MaskedConv):\n",
        "    def set_mask(self):\n",
        "        h, w = self.kernel_size\n",
        "        self.mask[:, :, h//2, :w//2] = 1\n",
        "        self.mask[:, :, :h//2] = 1\n",
        "\n",
        "\n",
        "class ConvB(MaskedConv):\n",
        "    def set_mask(self):\n",
        "        h, w = self.kernel_size\n",
        "        self.mask[:, :, h//2, :w//2 + 1] = 1\n",
        "        self.mask[:, :, :h//2] = 1\n",
        "\n",
        "\n",
        "# class LayerNorm(nn.LayerNorm):\n",
        "#     def __init__(self, *args, **kwargs):\n",
        "#         super().__init__(*args, **kwargs)\n",
        "\n",
        "#     def forward(self, x):\n",
        "#         # print(f\"LayerNorm | in:{x.shape, x.device}\")\n",
        "#         x = x.permute(0, 2, 3, 1).contiguous()\n",
        "#         out = super().forward(x)\n",
        "#         out = out.permute(0, 3, 1, 2).contiguous()\n",
        "#         # print(f\"LayerNorm | out:{out.shape, out.device}\")\n",
        "#         return out\n",
        "\n",
        "\n",
        "class Residual(nn.Module):\n",
        "    def __init__(self, cin, **kwargs):\n",
        "        super().__init__()\n",
        "        self.model = nn.Sequential(nn.ReLU(), ConvB(cin, cin//2, 1, **kwargs),\n",
        "                                   nn.ReLU(), ConvB(cin//2, cin//2, 7, padding=3, **kwargs),\n",
        "                                   nn.ReLU(), ConvB(cin//2, cin, 1, **kwargs))\n",
        "        \n",
        "    def forward(self, x):\n",
        "        # print(f\"Residual | in:{x.shape, x.device}\")\n",
        "        out = self.model(x)\n",
        "        out += x\n",
        "        # print(f\"Residual | out:{out.shape, out.device}\")\n",
        "        return out\n",
        "\n",
        "\n",
        "def custom_collate_fn(x):\n",
        "    x = np.array(x).transpose(0, 3, 1, 2)\n",
        "    # x = torch.tensor(x, dtype=torch.long)\n",
        "    x = torch.FloatTensor(x)\n",
        "    return x"
      ],
      "execution_count": 22,
      "outputs": []
    },
    {
      "cell_type": "code",
      "metadata": {
        "id": "xCU2wKV-YZ7x"
      },
      "source": [
        "from torch.distributions.uniform import Uniform\n",
        "from torch.distributions.normal import Normal"
      ],
      "execution_count": 6,
      "outputs": []
    },
    {
      "cell_type": "code",
      "metadata": {
        "id": "MHVS9KL6ZEv5"
      },
      "source": [
        "def get_uniform(low, high, device):\n",
        "    _low = torch.Tensor([low]).to(device)\n",
        "    _high = torch.Tensor([high]).to(device)\n",
        "    return Uniform(_low, _high)"
      ],
      "execution_count": 7,
      "outputs": []
    },
    {
      "cell_type": "code",
      "metadata": {
        "id": "2ai2o8oyWMwa"
      },
      "source": [
        "class AutoregressiveFlowPixelCNN(nn.Module):\n",
        "\n",
        "    def __init__(self, input_shape,\n",
        "                 n_components=5, \n",
        "                 n_filters=120,\n",
        "                 n_colors=2,\n",
        "                 kernel_size=7,\n",
        "                 middle_stack_size=8,\n",
        "                 base_dist=get_uniform(0, 1, device)):\n",
        "        \n",
        "        super().__init__()\n",
        "        self.input_shape = input_shape\n",
        "        self.n_components = n_components\n",
        "        self.n_filters = n_filters\n",
        "        self.n_colors = n_colors\n",
        "        self.kernel_size = kernel_size\n",
        "        self.middle_stack_size = middle_stack_size\n",
        "        self.base_dist = base_dist\n",
        "        self.model = self.form_model()\n",
        "\n",
        "\n",
        "    def form_model(self):\n",
        "        c, h, w = self.input_shape\n",
        "\n",
        "        start_stack = [ConvA(in_channels=c, \n",
        "                             out_channels=self.n_filters, \n",
        "                             kernel_size=self.kernel_size, \n",
        "                             padding=self.kernel_size//2),\n",
        "                    #    LayerNorm(normalized_shape=self.n_filters),\n",
        "                       nn.ReLU()]\n",
        "\n",
        "        middle_stack = []\n",
        "        for _ in range(self.middle_stack_size):\n",
        "            middle_stack.extend([Residual(self.n_filters), \n",
        "                                #  LayerNorm(self.n_filters), \n",
        "                                 nn.ReLU()])\n",
        "\n",
        "        finish_stack = ([ConvB(in_channels=self.n_filters, \n",
        "                               out_channels=self.n_filters, \n",
        "                               kernel_size=1), \n",
        "                         nn.ReLU(),\n",
        "                         ConvB(in_channels=self.n_filters,\n",
        "                               out_channels=3 * c * self.n_components, \n",
        "                               kernel_size=1)])\n",
        "        \n",
        "        layers = start_stack + middle_stack + finish_stack\n",
        "\n",
        "        return nn.Sequential(*layers)\n",
        "\n",
        "\n",
        "    def forward(self, x):\n",
        "        batch_size = x.shape[0]\n",
        "        # print(f\"PixelCNN | in:{x.shape, x.device}\")\n",
        "\n",
        "        print(f\"x.dtype: {x.dtype}\")\n",
        "        out = self.model(x)\n",
        "        out = out.view(batch_size, 3 * self.n_components, *self.input_shape) \n",
        "        # print(f\"PixelCNN | out:{out.shape, out.device}\")\n",
        "        return out \n",
        "\n",
        "\n",
        "    def direct_flow(self, x):\n",
        "\n",
        "        pixelcnn_out = self(x)\n",
        "\n",
        "        pi, mu, log_sigma = torch.chunk(pixelcnn_out, 3, dim=1)\n",
        "        pi = F.softmax(pi, dim=1)\n",
        "        dist = Normal(mu, log_sigma.exp())\n",
        "\n",
        "        xr = x.unsqueeze(1).repeat(1, self.n_components, 1, 1, 1)\n",
        "        \n",
        "        z = (dist.cdf(xr) * pi).sum(dim=1)\n",
        "        log_det = (dist.log_prob(xr).exp() * pi).sum(dim=1).log()\n",
        "        \n",
        "        subs = torch.tensor(2).log().to(device)\n",
        "        log_det -= subs\n",
        "\n",
        "        return z, log_det \n",
        "\n",
        "\n",
        "    def inverse_flow(self, pi, mu, log_sigma):\n",
        "        n = pi.shape[0]\n",
        "        sample_like = (n,)\n",
        "        z = base_dist.sample(sample_like)\n",
        "\n",
        "        xs = []\n",
        "\n",
        "        for i in range(n):\n",
        "            dist = Normal(mu[i], log_sigma[i].exp())\n",
        "            def f(x):\n",
        "                xr = np.repeat((x, self.n_components))\n",
        "                xr = torch.FloatTensor(xr).to(device)\n",
        "                return pi[i].dot(dist.cdf(xr)) - z[i]\n",
        "\n",
        "            x = bisect(f, -20, 20)\n",
        "            xs.append(x)\n",
        "\n",
        "        return torch.FloatTensor(xs).to(device)\n",
        "\n",
        "\n",
        "    def log_prob(self, x):\n",
        "        z, log_det = self.direct_flow(x)\n",
        "        z = torch.clip(z, 0, 1)\n",
        "        log_p = (self.base_dist.log_prob(z) + log_det).mean(dim=(2, 3))\n",
        "        return log_p\n",
        "\n",
        "    \n",
        "    def loss(self, x):\n",
        "        return -self.log_prob(x).mean()\n",
        "\n",
        "\n",
        "    def test(self, test_loader):\n",
        "        cnt = 0\n",
        "        total_loss = 0\n",
        "\n",
        "        with torch.no_grad():\n",
        "            for batch in test_loader:\n",
        "                n = batch.shape[0]\n",
        "                batch = batch.to(device)\n",
        "\n",
        "                cnt += n\n",
        "                total_loss += self.loss(batch) * n\n",
        "\n",
        "        return total_loss / cnt\n",
        "        # return total_loss.item() / cnt\n",
        "\n",
        "\n",
        "    def fit(self, train_data, test_data, \n",
        "            batch_size=128,\n",
        "            n_epoch=20,\n",
        "            lr=1e-3):\n",
        "        \n",
        "        train_loader = DataLoader(train_data, \n",
        "                                  batch_size=batch_size, \n",
        "                                  shuffle=True,\n",
        "                                  collate_fn=custom_collate_fn)\n",
        "\n",
        "        test_loader = DataLoader(test_data,\n",
        "                                 batch_size=batch_size,\n",
        "                                 shuffle=False,\n",
        "                                 collate_fn=custom_collate_fn)\n",
        "\n",
        "        optimizer = Adam(self.parameters(), lr=lr)\n",
        "\n",
        "        train_loss = []\n",
        "        test_loss = [self.test(test_loader)]\n",
        "\n",
        "        for epoch in tqdm(range(n_epoch), \"Train | epochs\"):\n",
        "            for batch in train_loader:\n",
        "                noise = torch.rand(batch.shape) / 2.0 # ?\n",
        "                batch = (batch + noise).to(device)\n",
        "\n",
        "                _loss = self.loss(batch)\n",
        "                optimizer.zero_grad() \n",
        "                _loss.backward()\n",
        "\n",
        "                clip_grad_norm_(self.parameters(), 1)\n",
        "                optimizer.step()\n",
        "\n",
        "                train_loss.append(_loss.cpu().data)\n",
        "            test_loss.append(self.test(test_loader))\n",
        "\n",
        "        return train_loss, test_loss\n",
        "\n",
        "\n",
        "    def sample(self, n_samples=100):\n",
        "\n",
        "        self.model.eval()\n",
        "        c, h, w = self.input_shape\n",
        "        samples = torch.zeros(n_samples, *self.input_shape).to(device)\n",
        "\n",
        "        with torch.no_grad():\n",
        "            for h_i in range(h):\n",
        "                for w_j in range(w):\n",
        "                    for c_k in range(c):\n",
        "                        pixelcnn_sample = self(samples)[:, :, c_k, h_i, w_j]\n",
        "                        pi, mu, log_sigma = torch.chunk(pixelcnn_sample, 3, dim=1)\n",
        "                        pi = F.softmax(pi, dim=1)\n",
        "                        samples[:, c_k, h_i, w_j] = self.inverse_flow(pi, mu, log_sigma)\n",
        "\n",
        "        samples = torch.clip(samples, 0, 1)\n",
        "        return samples.permute(0, 2, 3, 1).cpu().numpy()"
      ],
      "execution_count": 27,
      "outputs": []
    },
    {
      "cell_type": "code",
      "metadata": {
        "id": "wtFZU2ymB6_t"
      },
      "source": [
        "def q1(train_data, test_data):\n",
        "  \"\"\"\n",
        "  train_data: A (n_train, H, W, 1) uint8 numpy array of binary images with values in {0, 1}\n",
        "  test_data: A (n_test, H, W, 1) uint8 numpy array of binary images with values in {0, 1}\n",
        "  H = W = 20\n",
        "  Note that you should dequantize your train and test data, your dequantized pixels should all lie in [0,1]\n",
        "\n",
        "  Returns\n",
        "  - a (# of training iterations,) numpy array of train_losses evaluated every minibatch\n",
        "  - a (# of epochs + 1,) numpy array of test_losses evaluated once at initialization and after each epoch\n",
        "  - a numpy array of size (100, H, W, 1) of samples with values in [0, 1], where [0,0.5] represents a black pixel\n",
        "      and [0.5,1] represents a white pixel. We will show your samples with and without noise. \n",
        "  \"\"\"\n",
        "  \n",
        "  _, h, w, c = train_data.shape\n",
        "  image_new_shape = (c, h, w)\n",
        "\n",
        "  model = AutoregressiveFlowPixelCNN(image_new_shape).to(device)\n",
        "\n",
        "  train_loss, test_loss = model.fit(train_data, test_data)\n",
        "  samples = model.sample(n_samples=100)\n",
        "\n",
        "  return train_loss, test_loss, samples"
      ],
      "execution_count": 28,
      "outputs": []
    },
    {
      "cell_type": "markdown",
      "metadata": {
        "id": "Iso12bj4Tup8"
      },
      "source": [
        "### Results\n",
        "\n",
        "Once you've implemented `q1`, execute the cells below to visualize and save your results\n",
        "\n"
      ]
    },
    {
      "cell_type": "code",
      "metadata": {
        "id": "njfGrZ74Jm2d",
        "colab": {
          "base_uri": "https://localhost:8080/",
          "height": 1000
        },
        "outputId": "7b3249fc-9e2d-4478-8adb-79b12427d658"
      },
      "source": [
        "q1_save_results(q1)"
      ],
      "execution_count": 29,
      "outputs": [
        {
          "output_type": "stream",
          "name": "stdout",
          "text": [
            "x.dtype: torch.float32\n",
            "x.dtype: torch.float32\n",
            "x.dtype: torch.float32\n",
            "x.dtype: torch.float32\n",
            "x.dtype: torch.float32\n",
            "x.dtype: torch.float32\n",
            "x.dtype: torch.float32\n",
            "x.dtype: torch.float32\n",
            "x.dtype: torch.float32\n",
            "x.dtype: torch.float32\n",
            "x.dtype: torch.float32\n",
            "x.dtype: torch.float32\n",
            "x.dtype: torch.float32\n",
            "x.dtype: torch.float32\n",
            "x.dtype: torch.float32\n",
            "x.dtype: torch.float32\n",
            "x.dtype: torch.float32\n",
            "x.dtype: torch.float32\n",
            "x.dtype: torch.float32\n",
            "x.dtype: torch.float32\n",
            "x.dtype: torch.float32\n",
            "x.dtype: torch.float32\n",
            "x.dtype: torch.float32\n",
            "x.dtype: torch.float32\n",
            "x.dtype: torch.float32\n",
            "x.dtype: torch.float32\n",
            "x.dtype: torch.float32\n",
            "x.dtype: torch.float32\n",
            "x.dtype: torch.float32\n",
            "x.dtype: torch.float32\n",
            "x.dtype: torch.float32\n",
            "x.dtype: torch.float32\n",
            "x.dtype: torch.float32\n",
            "x.dtype: torch.float32\n",
            "x.dtype: torch.float32\n",
            "x.dtype: torch.float32\n"
          ]
        },
        {
          "output_type": "stream",
          "name": "stderr",
          "text": [
            "\rTrain | epochs:   0%|          | 0/20 [00:00<?, ?it/s]"
          ]
        },
        {
          "output_type": "stream",
          "name": "stdout",
          "text": [
            "x.dtype: torch.float32\n",
            "x.dtype: torch.float32\n",
            "x.dtype: torch.float32\n",
            "x.dtype: torch.float32\n",
            "x.dtype: torch.float32\n",
            "x.dtype: torch.float32\n",
            "x.dtype: torch.float32\n",
            "x.dtype: torch.float32\n",
            "x.dtype: torch.float32\n",
            "x.dtype: torch.float32\n",
            "x.dtype: torch.float32\n",
            "x.dtype: torch.float32\n",
            "x.dtype: torch.float32\n",
            "x.dtype: torch.float32\n",
            "x.dtype: torch.float32\n",
            "x.dtype: torch.float32\n",
            "x.dtype: torch.float32\n",
            "x.dtype: torch.float32\n",
            "x.dtype: torch.float32\n",
            "x.dtype: torch.float32\n",
            "x.dtype: torch.float32\n",
            "x.dtype: torch.float32\n",
            "x.dtype: torch.float32\n",
            "x.dtype: torch.float32\n",
            "x.dtype: torch.float32\n",
            "x.dtype: torch.float32\n",
            "x.dtype: torch.float32\n",
            "x.dtype: torch.float32\n",
            "x.dtype: torch.float32\n",
            "x.dtype: torch.float32\n",
            "x.dtype: torch.float32\n",
            "x.dtype: torch.float32\n",
            "x.dtype: torch.float32\n",
            "x.dtype: torch.float32\n",
            "x.dtype: torch.float32\n",
            "x.dtype: torch.float32\n",
            "x.dtype: torch.float32\n",
            "x.dtype: torch.float32\n",
            "x.dtype: torch.float32\n",
            "x.dtype: torch.float32\n",
            "x.dtype: torch.float32\n",
            "x.dtype: torch.float32\n",
            "x.dtype: torch.float32\n",
            "x.dtype: torch.float32\n",
            "x.dtype: torch.float32\n",
            "x.dtype: torch.float32\n",
            "x.dtype: torch.float32\n",
            "x.dtype: torch.float32\n",
            "x.dtype: torch.float32\n",
            "x.dtype: torch.float32\n",
            "x.dtype: torch.float32\n",
            "x.dtype: torch.float32\n",
            "x.dtype: torch.float32\n",
            "x.dtype: torch.float32\n",
            "x.dtype: torch.float32\n",
            "x.dtype: torch.float32\n",
            "x.dtype: torch.float32\n",
            "x.dtype: torch.float32\n",
            "x.dtype: torch.float32\n",
            "x.dtype: torch.float32\n",
            "x.dtype: torch.float32\n",
            "x.dtype: torch.float32\n",
            "x.dtype: torch.float32\n",
            "x.dtype: torch.float32\n",
            "x.dtype: torch.float32\n",
            "x.dtype: torch.float32\n",
            "x.dtype: torch.float32\n",
            "x.dtype: torch.float32\n",
            "x.dtype: torch.float32\n",
            "x.dtype: torch.float32\n",
            "x.dtype: torch.float32\n",
            "x.dtype: torch.float32\n",
            "x.dtype: torch.float32\n",
            "x.dtype: torch.float32\n",
            "x.dtype: torch.float32\n",
            "x.dtype: torch.float32\n",
            "x.dtype: torch.float32\n",
            "x.dtype: torch.float32\n",
            "x.dtype: torch.float32\n",
            "x.dtype: torch.float32\n",
            "x.dtype: torch.float32\n",
            "x.dtype: torch.float32\n",
            "x.dtype: torch.float32\n",
            "x.dtype: torch.float32\n",
            "x.dtype: torch.float32\n",
            "x.dtype: torch.float32\n",
            "x.dtype: torch.float32\n",
            "x.dtype: torch.float32\n",
            "x.dtype: torch.float32\n",
            "x.dtype: torch.float32\n",
            "x.dtype: torch.float32\n",
            "x.dtype: torch.float32\n",
            "x.dtype: torch.float32\n",
            "x.dtype: torch.float32\n",
            "x.dtype: torch.float32\n",
            "x.dtype: torch.float32\n",
            "x.dtype: torch.float32\n",
            "x.dtype: torch.float32\n",
            "x.dtype: torch.float32\n",
            "x.dtype: torch.float32\n",
            "x.dtype: torch.float32\n",
            "x.dtype: torch.float32\n",
            "x.dtype: torch.float32\n",
            "x.dtype: torch.float32\n",
            "x.dtype: torch.float32\n",
            "x.dtype: torch.float32\n",
            "x.dtype: torch.float32\n",
            "x.dtype: torch.float32\n",
            "x.dtype: torch.float32\n",
            "x.dtype: torch.float32\n",
            "x.dtype: torch.float32\n",
            "x.dtype: torch.float32\n",
            "x.dtype: torch.float32\n",
            "x.dtype: torch.float32\n",
            "x.dtype: torch.float32\n",
            "x.dtype: torch.float32\n",
            "x.dtype: torch.float32\n",
            "x.dtype: torch.float32\n"
          ]
        },
        {
          "output_type": "stream",
          "name": "stderr",
          "text": [
            "\rTrain | epochs:   5%|▌         | 1/20 [15:18<4:50:59, 918.92s/it]"
          ]
        },
        {
          "output_type": "stream",
          "name": "stdout",
          "text": [
            "x.dtype: torch.float32\n",
            "x.dtype: torch.float32\n",
            "x.dtype: torch.float32\n",
            "x.dtype: torch.float32\n",
            "x.dtype: torch.float32\n",
            "x.dtype: torch.float32\n",
            "x.dtype: torch.float32\n"
          ]
        },
        {
          "output_type": "stream",
          "name": "stderr",
          "text": [
            "\rTrain | epochs:   5%|▌         | 1/20 [16:27<5:12:44, 987.61s/it]\n"
          ]
        },
        {
          "output_type": "error",
          "ename": "KeyboardInterrupt",
          "evalue": "ignored",
          "traceback": [
            "\u001b[0;31m---------------------------------------------------------------------------\u001b[0m",
            "\u001b[0;31mKeyboardInterrupt\u001b[0m                         Traceback (most recent call last)",
            "\u001b[0;32m<ipython-input-29-44bed878a411>\u001b[0m in \u001b[0;36m<module>\u001b[0;34m()\u001b[0m\n\u001b[0;32m----> 1\u001b[0;31m \u001b[0mq1_save_results\u001b[0m\u001b[0;34m(\u001b[0m\u001b[0mq1\u001b[0m\u001b[0;34m)\u001b[0m\u001b[0;34m\u001b[0m\u001b[0;34m\u001b[0m\u001b[0m\n\u001b[0m",
            "\u001b[0;32m/content/dul_2021/utils/hw3_utils.py\u001b[0m in \u001b[0;36mq1_save_results\u001b[0;34m(fn)\u001b[0m\n\u001b[1;32m     28\u001b[0m     \u001b[0mtrain_data\u001b[0m\u001b[0;34m,\u001b[0m \u001b[0mtest_data\u001b[0m \u001b[0;34m=\u001b[0m \u001b[0mload_pickled_data\u001b[0m\u001b[0;34m(\u001b[0m\u001b[0mjoin\u001b[0m\u001b[0;34m(\u001b[0m\u001b[0mdata_dir\u001b[0m\u001b[0;34m,\u001b[0m \u001b[0;34m'shapes.pkl'\u001b[0m\u001b[0;34m)\u001b[0m\u001b[0;34m)\u001b[0m\u001b[0;34m\u001b[0m\u001b[0;34m\u001b[0m\u001b[0m\n\u001b[1;32m     29\u001b[0m \u001b[0;34m\u001b[0m\u001b[0m\n\u001b[0;32m---> 30\u001b[0;31m     \u001b[0mtrain_losses\u001b[0m\u001b[0;34m,\u001b[0m \u001b[0mtest_losses\u001b[0m\u001b[0;34m,\u001b[0m \u001b[0msamples\u001b[0m \u001b[0;34m=\u001b[0m \u001b[0mfn\u001b[0m\u001b[0;34m(\u001b[0m\u001b[0mtrain_data\u001b[0m\u001b[0;34m,\u001b[0m \u001b[0mtest_data\u001b[0m\u001b[0;34m)\u001b[0m\u001b[0;34m\u001b[0m\u001b[0;34m\u001b[0m\u001b[0m\n\u001b[0m\u001b[1;32m     31\u001b[0m     \u001b[0msamples\u001b[0m \u001b[0;34m=\u001b[0m \u001b[0mnp\u001b[0m\u001b[0;34m.\u001b[0m\u001b[0mclip\u001b[0m\u001b[0;34m(\u001b[0m\u001b[0msamples\u001b[0m\u001b[0;34m.\u001b[0m\u001b[0mastype\u001b[0m\u001b[0;34m(\u001b[0m\u001b[0;34m'float'\u001b[0m\u001b[0;34m)\u001b[0m \u001b[0;34m*\u001b[0m \u001b[0;36m2.0\u001b[0m\u001b[0;34m,\u001b[0m \u001b[0;36m0\u001b[0m\u001b[0;34m,\u001b[0m \u001b[0;36m1.9999\u001b[0m\u001b[0;34m)\u001b[0m\u001b[0;34m\u001b[0m\u001b[0;34m\u001b[0m\u001b[0m\n\u001b[1;32m     32\u001b[0m     \u001b[0mfloored_samples\u001b[0m \u001b[0;34m=\u001b[0m \u001b[0mnp\u001b[0m\u001b[0;34m.\u001b[0m\u001b[0mfloor\u001b[0m\u001b[0;34m(\u001b[0m\u001b[0msamples\u001b[0m\u001b[0;34m)\u001b[0m\u001b[0;34m\u001b[0m\u001b[0;34m\u001b[0m\u001b[0m\n",
            "\u001b[0;32m<ipython-input-28-9c2a082570ae>\u001b[0m in \u001b[0;36mq1\u001b[0;34m(train_data, test_data)\u001b[0m\n\u001b[1;32m     18\u001b[0m   \u001b[0mmodel\u001b[0m \u001b[0;34m=\u001b[0m \u001b[0mAutoregressiveFlowPixelCNN\u001b[0m\u001b[0;34m(\u001b[0m\u001b[0mimage_new_shape\u001b[0m\u001b[0;34m)\u001b[0m\u001b[0;34m.\u001b[0m\u001b[0mto\u001b[0m\u001b[0;34m(\u001b[0m\u001b[0mdevice\u001b[0m\u001b[0;34m)\u001b[0m\u001b[0;34m\u001b[0m\u001b[0;34m\u001b[0m\u001b[0m\n\u001b[1;32m     19\u001b[0m \u001b[0;34m\u001b[0m\u001b[0m\n\u001b[0;32m---> 20\u001b[0;31m   \u001b[0mtrain_loss\u001b[0m\u001b[0;34m,\u001b[0m \u001b[0mtest_loss\u001b[0m \u001b[0;34m=\u001b[0m \u001b[0mmodel\u001b[0m\u001b[0;34m.\u001b[0m\u001b[0mfit\u001b[0m\u001b[0;34m(\u001b[0m\u001b[0mtrain_data\u001b[0m\u001b[0;34m,\u001b[0m \u001b[0mtest_data\u001b[0m\u001b[0;34m)\u001b[0m\u001b[0;34m\u001b[0m\u001b[0;34m\u001b[0m\u001b[0m\n\u001b[0m\u001b[1;32m     21\u001b[0m   \u001b[0msamples\u001b[0m \u001b[0;34m=\u001b[0m \u001b[0mmodel\u001b[0m\u001b[0;34m.\u001b[0m\u001b[0msample\u001b[0m\u001b[0;34m(\u001b[0m\u001b[0mn_samples\u001b[0m\u001b[0;34m=\u001b[0m\u001b[0;36m100\u001b[0m\u001b[0;34m)\u001b[0m\u001b[0;34m\u001b[0m\u001b[0;34m\u001b[0m\u001b[0m\n\u001b[1;32m     22\u001b[0m \u001b[0;34m\u001b[0m\u001b[0m\n",
            "\u001b[0;32m<ipython-input-27-883251030bb2>\u001b[0m in \u001b[0;36mfit\u001b[0;34m(self, train_data, test_data, batch_size, n_epoch, lr)\u001b[0m\n\u001b[1;32m    153\u001b[0m                 \u001b[0m_loss\u001b[0m \u001b[0;34m=\u001b[0m \u001b[0mself\u001b[0m\u001b[0;34m.\u001b[0m\u001b[0mloss\u001b[0m\u001b[0;34m(\u001b[0m\u001b[0mbatch\u001b[0m\u001b[0;34m)\u001b[0m\u001b[0;34m\u001b[0m\u001b[0;34m\u001b[0m\u001b[0m\n\u001b[1;32m    154\u001b[0m                 \u001b[0moptimizer\u001b[0m\u001b[0;34m.\u001b[0m\u001b[0mzero_grad\u001b[0m\u001b[0;34m(\u001b[0m\u001b[0;34m)\u001b[0m\u001b[0;34m\u001b[0m\u001b[0;34m\u001b[0m\u001b[0m\n\u001b[0;32m--> 155\u001b[0;31m                 \u001b[0m_loss\u001b[0m\u001b[0;34m.\u001b[0m\u001b[0mbackward\u001b[0m\u001b[0;34m(\u001b[0m\u001b[0;34m)\u001b[0m\u001b[0;34m\u001b[0m\u001b[0;34m\u001b[0m\u001b[0m\n\u001b[0m\u001b[1;32m    156\u001b[0m \u001b[0;34m\u001b[0m\u001b[0m\n\u001b[1;32m    157\u001b[0m                 \u001b[0mclip_grad_norm_\u001b[0m\u001b[0;34m(\u001b[0m\u001b[0mself\u001b[0m\u001b[0;34m.\u001b[0m\u001b[0mparameters\u001b[0m\u001b[0;34m(\u001b[0m\u001b[0;34m)\u001b[0m\u001b[0;34m,\u001b[0m \u001b[0;36m1\u001b[0m\u001b[0;34m)\u001b[0m\u001b[0;34m\u001b[0m\u001b[0;34m\u001b[0m\u001b[0m\n",
            "\u001b[0;32m/usr/local/lib/python3.7/dist-packages/torch/_tensor.py\u001b[0m in \u001b[0;36mbackward\u001b[0;34m(self, gradient, retain_graph, create_graph, inputs)\u001b[0m\n\u001b[1;32m    305\u001b[0m                 \u001b[0mcreate_graph\u001b[0m\u001b[0;34m=\u001b[0m\u001b[0mcreate_graph\u001b[0m\u001b[0;34m,\u001b[0m\u001b[0;34m\u001b[0m\u001b[0;34m\u001b[0m\u001b[0m\n\u001b[1;32m    306\u001b[0m                 inputs=inputs)\n\u001b[0;32m--> 307\u001b[0;31m         \u001b[0mtorch\u001b[0m\u001b[0;34m.\u001b[0m\u001b[0mautograd\u001b[0m\u001b[0;34m.\u001b[0m\u001b[0mbackward\u001b[0m\u001b[0;34m(\u001b[0m\u001b[0mself\u001b[0m\u001b[0;34m,\u001b[0m \u001b[0mgradient\u001b[0m\u001b[0;34m,\u001b[0m \u001b[0mretain_graph\u001b[0m\u001b[0;34m,\u001b[0m \u001b[0mcreate_graph\u001b[0m\u001b[0;34m,\u001b[0m \u001b[0minputs\u001b[0m\u001b[0;34m=\u001b[0m\u001b[0minputs\u001b[0m\u001b[0;34m)\u001b[0m\u001b[0;34m\u001b[0m\u001b[0;34m\u001b[0m\u001b[0m\n\u001b[0m\u001b[1;32m    308\u001b[0m \u001b[0;34m\u001b[0m\u001b[0m\n\u001b[1;32m    309\u001b[0m     \u001b[0;32mdef\u001b[0m \u001b[0mregister_hook\u001b[0m\u001b[0;34m(\u001b[0m\u001b[0mself\u001b[0m\u001b[0;34m,\u001b[0m \u001b[0mhook\u001b[0m\u001b[0;34m)\u001b[0m\u001b[0;34m:\u001b[0m\u001b[0;34m\u001b[0m\u001b[0;34m\u001b[0m\u001b[0m\n",
            "\u001b[0;32m/usr/local/lib/python3.7/dist-packages/torch/autograd/__init__.py\u001b[0m in \u001b[0;36mbackward\u001b[0;34m(tensors, grad_tensors, retain_graph, create_graph, grad_variables, inputs)\u001b[0m\n\u001b[1;32m    154\u001b[0m     Variable._execution_engine.run_backward(\n\u001b[1;32m    155\u001b[0m         \u001b[0mtensors\u001b[0m\u001b[0;34m,\u001b[0m \u001b[0mgrad_tensors_\u001b[0m\u001b[0;34m,\u001b[0m \u001b[0mretain_graph\u001b[0m\u001b[0;34m,\u001b[0m \u001b[0mcreate_graph\u001b[0m\u001b[0;34m,\u001b[0m \u001b[0minputs\u001b[0m\u001b[0;34m,\u001b[0m\u001b[0;34m\u001b[0m\u001b[0;34m\u001b[0m\u001b[0m\n\u001b[0;32m--> 156\u001b[0;31m         allow_unreachable=True, accumulate_grad=True)  # allow_unreachable flag\n\u001b[0m\u001b[1;32m    157\u001b[0m \u001b[0;34m\u001b[0m\u001b[0m\n\u001b[1;32m    158\u001b[0m \u001b[0;34m\u001b[0m\u001b[0m\n",
            "\u001b[0;31mKeyboardInterrupt\u001b[0m: "
          ]
        }
      ]
    }
  ]
}