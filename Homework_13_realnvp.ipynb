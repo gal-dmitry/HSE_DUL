{
  "nbformat": 4,
  "nbformat_minor": 0,
  "metadata": {
    "colab": {
      "name": "Homework13_realnvp.ipynb",
      "provenance": [],
      "collapsed_sections": [
        "PEI31Zh0PE9g",
        "0oMGXWMzP4oO"
      ],
      "history_visible": true
    },
    "kernelspec": {
      "name": "python3",
      "display_name": "Python 3"
    },
    "widgets": {
      "application/vnd.jupyter.widget-state+json": {
        "72d09fb70f5f4a118ff22365abe0f6ba": {
          "model_module": "@jupyter-widgets/controls",
          "model_name": "HBoxModel",
          "model_module_version": "1.5.0",
          "state": {
            "_view_name": "HBoxView",
            "_dom_classes": [],
            "_model_name": "HBoxModel",
            "_view_module": "@jupyter-widgets/controls",
            "_model_module_version": "1.5.0",
            "_view_count": null,
            "_view_module_version": "1.5.0",
            "box_style": "",
            "layout": "IPY_MODEL_a7ebfb85920944a48441dd6827d07bc7",
            "_model_module": "@jupyter-widgets/controls",
            "children": [
              "IPY_MODEL_7057f348d9f648ae8263eefef00456ee",
              "IPY_MODEL_43cda74088da4de290155df97edb000c",
              "IPY_MODEL_ad8566219cb54ccbbf75c285c271690e"
            ]
          }
        },
        "a7ebfb85920944a48441dd6827d07bc7": {
          "model_module": "@jupyter-widgets/base",
          "model_name": "LayoutModel",
          "model_module_version": "1.2.0",
          "state": {
            "_view_name": "LayoutView",
            "grid_template_rows": null,
            "right": null,
            "justify_content": null,
            "_view_module": "@jupyter-widgets/base",
            "overflow": null,
            "_model_module_version": "1.2.0",
            "_view_count": null,
            "flex_flow": null,
            "width": null,
            "min_width": null,
            "border": null,
            "align_items": null,
            "bottom": null,
            "_model_module": "@jupyter-widgets/base",
            "top": null,
            "grid_column": null,
            "overflow_y": null,
            "overflow_x": null,
            "grid_auto_flow": null,
            "grid_area": null,
            "grid_template_columns": null,
            "flex": null,
            "_model_name": "LayoutModel",
            "justify_items": null,
            "grid_row": null,
            "max_height": null,
            "align_content": null,
            "visibility": null,
            "align_self": null,
            "height": null,
            "min_height": null,
            "padding": null,
            "grid_auto_rows": null,
            "grid_gap": null,
            "max_width": null,
            "order": null,
            "_view_module_version": "1.2.0",
            "grid_template_areas": null,
            "object_position": null,
            "object_fit": null,
            "grid_auto_columns": null,
            "margin": null,
            "display": null,
            "left": null
          }
        },
        "7057f348d9f648ae8263eefef00456ee": {
          "model_module": "@jupyter-widgets/controls",
          "model_name": "HTMLModel",
          "model_module_version": "1.5.0",
          "state": {
            "_view_name": "HTMLView",
            "style": "IPY_MODEL_e3107d3d40f743cda5211a491c389f0e",
            "_dom_classes": [],
            "description": "",
            "_model_name": "HTMLModel",
            "placeholder": "​",
            "_view_module": "@jupyter-widgets/controls",
            "_model_module_version": "1.5.0",
            "value": "Epoch: 100%",
            "_view_count": null,
            "_view_module_version": "1.5.0",
            "description_tooltip": null,
            "_model_module": "@jupyter-widgets/controls",
            "layout": "IPY_MODEL_42ebda6a0c574040a699bd0e925c4c6c"
          }
        },
        "43cda74088da4de290155df97edb000c": {
          "model_module": "@jupyter-widgets/controls",
          "model_name": "FloatProgressModel",
          "model_module_version": "1.5.0",
          "state": {
            "_view_name": "ProgressView",
            "style": "IPY_MODEL_2634b82cb9824e88a8c4f3867035c5cc",
            "_dom_classes": [],
            "description": "",
            "_model_name": "FloatProgressModel",
            "bar_style": "success",
            "max": 1,
            "_view_module": "@jupyter-widgets/controls",
            "_model_module_version": "1.5.0",
            "value": 1,
            "_view_count": null,
            "_view_module_version": "1.5.0",
            "orientation": "horizontal",
            "min": 0,
            "description_tooltip": null,
            "_model_module": "@jupyter-widgets/controls",
            "layout": "IPY_MODEL_b078db5708164693906c6661ddb4f9f4"
          }
        },
        "ad8566219cb54ccbbf75c285c271690e": {
          "model_module": "@jupyter-widgets/controls",
          "model_name": "HTMLModel",
          "model_module_version": "1.5.0",
          "state": {
            "_view_name": "HTMLView",
            "style": "IPY_MODEL_153d7c60525e4337a9997df3fde8e5d8",
            "_dom_classes": [],
            "description": "",
            "_model_name": "HTMLModel",
            "placeholder": "​",
            "_view_module": "@jupyter-widgets/controls",
            "_model_module_version": "1.5.0",
            "value": " 1/1 [15:23&lt;00:00, 923.95s/it]",
            "_view_count": null,
            "_view_module_version": "1.5.0",
            "description_tooltip": null,
            "_model_module": "@jupyter-widgets/controls",
            "layout": "IPY_MODEL_db8c9ee17a274bc8bcb921c8bcf5b7c0"
          }
        },
        "e3107d3d40f743cda5211a491c389f0e": {
          "model_module": "@jupyter-widgets/controls",
          "model_name": "DescriptionStyleModel",
          "model_module_version": "1.5.0",
          "state": {
            "_view_name": "StyleView",
            "_model_name": "DescriptionStyleModel",
            "description_width": "",
            "_view_module": "@jupyter-widgets/base",
            "_model_module_version": "1.5.0",
            "_view_count": null,
            "_view_module_version": "1.2.0",
            "_model_module": "@jupyter-widgets/controls"
          }
        },
        "42ebda6a0c574040a699bd0e925c4c6c": {
          "model_module": "@jupyter-widgets/base",
          "model_name": "LayoutModel",
          "model_module_version": "1.2.0",
          "state": {
            "_view_name": "LayoutView",
            "grid_template_rows": null,
            "right": null,
            "justify_content": null,
            "_view_module": "@jupyter-widgets/base",
            "overflow": null,
            "_model_module_version": "1.2.0",
            "_view_count": null,
            "flex_flow": null,
            "width": null,
            "min_width": null,
            "border": null,
            "align_items": null,
            "bottom": null,
            "_model_module": "@jupyter-widgets/base",
            "top": null,
            "grid_column": null,
            "overflow_y": null,
            "overflow_x": null,
            "grid_auto_flow": null,
            "grid_area": null,
            "grid_template_columns": null,
            "flex": null,
            "_model_name": "LayoutModel",
            "justify_items": null,
            "grid_row": null,
            "max_height": null,
            "align_content": null,
            "visibility": null,
            "align_self": null,
            "height": null,
            "min_height": null,
            "padding": null,
            "grid_auto_rows": null,
            "grid_gap": null,
            "max_width": null,
            "order": null,
            "_view_module_version": "1.2.0",
            "grid_template_areas": null,
            "object_position": null,
            "object_fit": null,
            "grid_auto_columns": null,
            "margin": null,
            "display": null,
            "left": null
          }
        },
        "2634b82cb9824e88a8c4f3867035c5cc": {
          "model_module": "@jupyter-widgets/controls",
          "model_name": "ProgressStyleModel",
          "model_module_version": "1.5.0",
          "state": {
            "_view_name": "StyleView",
            "_model_name": "ProgressStyleModel",
            "description_width": "",
            "_view_module": "@jupyter-widgets/base",
            "_model_module_version": "1.5.0",
            "_view_count": null,
            "_view_module_version": "1.2.0",
            "bar_color": null,
            "_model_module": "@jupyter-widgets/controls"
          }
        },
        "b078db5708164693906c6661ddb4f9f4": {
          "model_module": "@jupyter-widgets/base",
          "model_name": "LayoutModel",
          "model_module_version": "1.2.0",
          "state": {
            "_view_name": "LayoutView",
            "grid_template_rows": null,
            "right": null,
            "justify_content": null,
            "_view_module": "@jupyter-widgets/base",
            "overflow": null,
            "_model_module_version": "1.2.0",
            "_view_count": null,
            "flex_flow": null,
            "width": null,
            "min_width": null,
            "border": null,
            "align_items": null,
            "bottom": null,
            "_model_module": "@jupyter-widgets/base",
            "top": null,
            "grid_column": null,
            "overflow_y": null,
            "overflow_x": null,
            "grid_auto_flow": null,
            "grid_area": null,
            "grid_template_columns": null,
            "flex": null,
            "_model_name": "LayoutModel",
            "justify_items": null,
            "grid_row": null,
            "max_height": null,
            "align_content": null,
            "visibility": null,
            "align_self": null,
            "height": null,
            "min_height": null,
            "padding": null,
            "grid_auto_rows": null,
            "grid_gap": null,
            "max_width": null,
            "order": null,
            "_view_module_version": "1.2.0",
            "grid_template_areas": null,
            "object_position": null,
            "object_fit": null,
            "grid_auto_columns": null,
            "margin": null,
            "display": null,
            "left": null
          }
        },
        "153d7c60525e4337a9997df3fde8e5d8": {
          "model_module": "@jupyter-widgets/controls",
          "model_name": "DescriptionStyleModel",
          "model_module_version": "1.5.0",
          "state": {
            "_view_name": "StyleView",
            "_model_name": "DescriptionStyleModel",
            "description_width": "",
            "_view_module": "@jupyter-widgets/base",
            "_model_module_version": "1.5.0",
            "_view_count": null,
            "_view_module_version": "1.2.0",
            "_model_module": "@jupyter-widgets/controls"
          }
        },
        "db8c9ee17a274bc8bcb921c8bcf5b7c0": {
          "model_module": "@jupyter-widgets/base",
          "model_name": "LayoutModel",
          "model_module_version": "1.2.0",
          "state": {
            "_view_name": "LayoutView",
            "grid_template_rows": null,
            "right": null,
            "justify_content": null,
            "_view_module": "@jupyter-widgets/base",
            "overflow": null,
            "_model_module_version": "1.2.0",
            "_view_count": null,
            "flex_flow": null,
            "width": null,
            "min_width": null,
            "border": null,
            "align_items": null,
            "bottom": null,
            "_model_module": "@jupyter-widgets/base",
            "top": null,
            "grid_column": null,
            "overflow_y": null,
            "overflow_x": null,
            "grid_auto_flow": null,
            "grid_area": null,
            "grid_template_columns": null,
            "flex": null,
            "_model_name": "LayoutModel",
            "justify_items": null,
            "grid_row": null,
            "max_height": null,
            "align_content": null,
            "visibility": null,
            "align_self": null,
            "height": null,
            "min_height": null,
            "padding": null,
            "grid_auto_rows": null,
            "grid_gap": null,
            "max_width": null,
            "order": null,
            "_view_module_version": "1.2.0",
            "grid_template_areas": null,
            "object_position": null,
            "object_fit": null,
            "grid_auto_columns": null,
            "margin": null,
            "display": null,
            "left": null
          }
        },
        "10a2c230f137472d97801890ed790a19": {
          "model_module": "@jupyter-widgets/controls",
          "model_name": "HBoxModel",
          "model_module_version": "1.5.0",
          "state": {
            "_view_name": "HBoxView",
            "_dom_classes": [],
            "_model_name": "HBoxModel",
            "_view_module": "@jupyter-widgets/controls",
            "_model_module_version": "1.5.0",
            "_view_count": null,
            "_view_module_version": "1.5.0",
            "box_style": "",
            "layout": "IPY_MODEL_d7871a8638c246929c23c19f390c4337",
            "_model_module": "@jupyter-widgets/controls",
            "children": [
              "IPY_MODEL_55d754e170934ef2bbbb4d53f3460cb6",
              "IPY_MODEL_84d955f4bc6b4e6a9e7b7e6c913ee4d1",
              "IPY_MODEL_7d3ad8ac908c4cd3b599c030321a071b"
            ]
          }
        },
        "d7871a8638c246929c23c19f390c4337": {
          "model_module": "@jupyter-widgets/base",
          "model_name": "LayoutModel",
          "model_module_version": "1.2.0",
          "state": {
            "_view_name": "LayoutView",
            "grid_template_rows": null,
            "right": null,
            "justify_content": null,
            "_view_module": "@jupyter-widgets/base",
            "overflow": null,
            "_model_module_version": "1.2.0",
            "_view_count": null,
            "flex_flow": null,
            "width": null,
            "min_width": null,
            "border": null,
            "align_items": null,
            "bottom": null,
            "_model_module": "@jupyter-widgets/base",
            "top": null,
            "grid_column": null,
            "overflow_y": null,
            "overflow_x": null,
            "grid_auto_flow": null,
            "grid_area": null,
            "grid_template_columns": null,
            "flex": null,
            "_model_name": "LayoutModel",
            "justify_items": null,
            "grid_row": null,
            "max_height": null,
            "align_content": null,
            "visibility": null,
            "align_self": null,
            "height": null,
            "min_height": null,
            "padding": null,
            "grid_auto_rows": null,
            "grid_gap": null,
            "max_width": null,
            "order": null,
            "_view_module_version": "1.2.0",
            "grid_template_areas": null,
            "object_position": null,
            "object_fit": null,
            "grid_auto_columns": null,
            "margin": null,
            "display": null,
            "left": null
          }
        },
        "55d754e170934ef2bbbb4d53f3460cb6": {
          "model_module": "@jupyter-widgets/controls",
          "model_name": "HTMLModel",
          "model_module_version": "1.5.0",
          "state": {
            "_view_name": "HTMLView",
            "style": "IPY_MODEL_e8d31f1c66df40d9997997136aacb700",
            "_dom_classes": [],
            "description": "",
            "_model_name": "HTMLModel",
            "placeholder": "​",
            "_view_module": "@jupyter-widgets/controls",
            "_model_module_version": "1.5.0",
            "value": "Batch: 100%",
            "_view_count": null,
            "_view_module_version": "1.5.0",
            "description_tooltip": null,
            "_model_module": "@jupyter-widgets/controls",
            "layout": "IPY_MODEL_8133f7c27aa347b4b465273304ee7657"
          }
        },
        "84d955f4bc6b4e6a9e7b7e6c913ee4d1": {
          "model_module": "@jupyter-widgets/controls",
          "model_name": "FloatProgressModel",
          "model_module_version": "1.5.0",
          "state": {
            "_view_name": "ProgressView",
            "style": "IPY_MODEL_0b23b52f85894a09b9adf08a623da2b2",
            "_dom_classes": [],
            "description": "",
            "_model_name": "FloatProgressModel",
            "bar_style": "",
            "max": 107,
            "_view_module": "@jupyter-widgets/controls",
            "_model_module_version": "1.5.0",
            "value": 107,
            "_view_count": null,
            "_view_module_version": "1.5.0",
            "orientation": "horizontal",
            "min": 0,
            "description_tooltip": null,
            "_model_module": "@jupyter-widgets/controls",
            "layout": "IPY_MODEL_ee489353a40b4d7db5fbb5c36670e904"
          }
        },
        "7d3ad8ac908c4cd3b599c030321a071b": {
          "model_module": "@jupyter-widgets/controls",
          "model_name": "HTMLModel",
          "model_module_version": "1.5.0",
          "state": {
            "_view_name": "HTMLView",
            "style": "IPY_MODEL_83f8c5aeb9744e38bcbe80af3b055d89",
            "_dom_classes": [],
            "description": "",
            "_model_name": "HTMLModel",
            "placeholder": "​",
            "_view_module": "@jupyter-widgets/controls",
            "_model_module_version": "1.5.0",
            "value": " 107/107 [08:39&lt;00:00,  4.72s/it]",
            "_view_count": null,
            "_view_module_version": "1.5.0",
            "description_tooltip": null,
            "_model_module": "@jupyter-widgets/controls",
            "layout": "IPY_MODEL_90c2c62d4af347d2adaf5db4e45f8790"
          }
        },
        "e8d31f1c66df40d9997997136aacb700": {
          "model_module": "@jupyter-widgets/controls",
          "model_name": "DescriptionStyleModel",
          "model_module_version": "1.5.0",
          "state": {
            "_view_name": "StyleView",
            "_model_name": "DescriptionStyleModel",
            "description_width": "",
            "_view_module": "@jupyter-widgets/base",
            "_model_module_version": "1.5.0",
            "_view_count": null,
            "_view_module_version": "1.2.0",
            "_model_module": "@jupyter-widgets/controls"
          }
        },
        "8133f7c27aa347b4b465273304ee7657": {
          "model_module": "@jupyter-widgets/base",
          "model_name": "LayoutModel",
          "model_module_version": "1.2.0",
          "state": {
            "_view_name": "LayoutView",
            "grid_template_rows": null,
            "right": null,
            "justify_content": null,
            "_view_module": "@jupyter-widgets/base",
            "overflow": null,
            "_model_module_version": "1.2.0",
            "_view_count": null,
            "flex_flow": null,
            "width": null,
            "min_width": null,
            "border": null,
            "align_items": null,
            "bottom": null,
            "_model_module": "@jupyter-widgets/base",
            "top": null,
            "grid_column": null,
            "overflow_y": null,
            "overflow_x": null,
            "grid_auto_flow": null,
            "grid_area": null,
            "grid_template_columns": null,
            "flex": null,
            "_model_name": "LayoutModel",
            "justify_items": null,
            "grid_row": null,
            "max_height": null,
            "align_content": null,
            "visibility": null,
            "align_self": null,
            "height": null,
            "min_height": null,
            "padding": null,
            "grid_auto_rows": null,
            "grid_gap": null,
            "max_width": null,
            "order": null,
            "_view_module_version": "1.2.0",
            "grid_template_areas": null,
            "object_position": null,
            "object_fit": null,
            "grid_auto_columns": null,
            "margin": null,
            "display": null,
            "left": null
          }
        },
        "0b23b52f85894a09b9adf08a623da2b2": {
          "model_module": "@jupyter-widgets/controls",
          "model_name": "ProgressStyleModel",
          "model_module_version": "1.5.0",
          "state": {
            "_view_name": "StyleView",
            "_model_name": "ProgressStyleModel",
            "description_width": "",
            "_view_module": "@jupyter-widgets/base",
            "_model_module_version": "1.5.0",
            "_view_count": null,
            "_view_module_version": "1.2.0",
            "bar_color": null,
            "_model_module": "@jupyter-widgets/controls"
          }
        },
        "ee489353a40b4d7db5fbb5c36670e904": {
          "model_module": "@jupyter-widgets/base",
          "model_name": "LayoutModel",
          "model_module_version": "1.2.0",
          "state": {
            "_view_name": "LayoutView",
            "grid_template_rows": null,
            "right": null,
            "justify_content": null,
            "_view_module": "@jupyter-widgets/base",
            "overflow": null,
            "_model_module_version": "1.2.0",
            "_view_count": null,
            "flex_flow": null,
            "width": null,
            "min_width": null,
            "border": null,
            "align_items": null,
            "bottom": null,
            "_model_module": "@jupyter-widgets/base",
            "top": null,
            "grid_column": null,
            "overflow_y": null,
            "overflow_x": null,
            "grid_auto_flow": null,
            "grid_area": null,
            "grid_template_columns": null,
            "flex": null,
            "_model_name": "LayoutModel",
            "justify_items": null,
            "grid_row": null,
            "max_height": null,
            "align_content": null,
            "visibility": null,
            "align_self": null,
            "height": null,
            "min_height": null,
            "padding": null,
            "grid_auto_rows": null,
            "grid_gap": null,
            "max_width": null,
            "order": null,
            "_view_module_version": "1.2.0",
            "grid_template_areas": null,
            "object_position": null,
            "object_fit": null,
            "grid_auto_columns": null,
            "margin": null,
            "display": null,
            "left": null
          }
        },
        "83f8c5aeb9744e38bcbe80af3b055d89": {
          "model_module": "@jupyter-widgets/controls",
          "model_name": "DescriptionStyleModel",
          "model_module_version": "1.5.0",
          "state": {
            "_view_name": "StyleView",
            "_model_name": "DescriptionStyleModel",
            "description_width": "",
            "_view_module": "@jupyter-widgets/base",
            "_model_module_version": "1.5.0",
            "_view_count": null,
            "_view_module_version": "1.2.0",
            "_model_module": "@jupyter-widgets/controls"
          }
        },
        "90c2c62d4af347d2adaf5db4e45f8790": {
          "model_module": "@jupyter-widgets/base",
          "model_name": "LayoutModel",
          "model_module_version": "1.2.0",
          "state": {
            "_view_name": "LayoutView",
            "grid_template_rows": null,
            "right": null,
            "justify_content": null,
            "_view_module": "@jupyter-widgets/base",
            "overflow": null,
            "_model_module_version": "1.2.0",
            "_view_count": null,
            "flex_flow": null,
            "width": null,
            "min_width": null,
            "border": null,
            "align_items": null,
            "bottom": null,
            "_model_module": "@jupyter-widgets/base",
            "top": null,
            "grid_column": null,
            "overflow_y": null,
            "overflow_x": null,
            "grid_auto_flow": null,
            "grid_area": null,
            "grid_template_columns": null,
            "flex": null,
            "_model_name": "LayoutModel",
            "justify_items": null,
            "grid_row": null,
            "max_height": null,
            "align_content": null,
            "visibility": null,
            "align_self": null,
            "height": null,
            "min_height": null,
            "padding": null,
            "grid_auto_rows": null,
            "grid_gap": null,
            "max_width": null,
            "order": null,
            "_view_module_version": "1.2.0",
            "grid_template_areas": null,
            "object_position": null,
            "object_fit": null,
            "grid_auto_columns": null,
            "margin": null,
            "display": null,
            "left": null
          }
        }
      }
    }
  },
  "cells": [
    {
      "cell_type": "code",
      "metadata": {
        "id": "wUVy2glDtoaR",
        "outputId": "a3d91463-693a-412f-d8b2-1e8b0c5ea44c",
        "colab": {
          "base_uri": "https://localhost:8080/"
        }
      },
      "source": [
        "!if [ -d dul_2021 ]; then rm -Rf dul_2021; fi\n",
        "!git clone https://github.com/GrigoryBartosh/dul_2021\n",
        "!pip install ./dul_2021"
      ],
      "execution_count": 1,
      "outputs": [
        {
          "output_type": "stream",
          "name": "stdout",
          "text": [
            "Cloning into 'dul_2021'...\n",
            "remote: Enumerating objects: 414, done.\u001b[K\n",
            "remote: Counting objects: 100% (164/164), done.\u001b[K\n",
            "remote: Compressing objects: 100% (85/85), done.\u001b[K\n",
            "remote: Total 414 (delta 104), reused 79 (delta 79), pack-reused 250\u001b[K\n",
            "Receiving objects: 100% (414/414), 70.33 MiB | 21.34 MiB/s, done.\n",
            "Resolving deltas: 100% (198/198), done.\n",
            "Checking out files: 100% (56/56), done.\n",
            "Processing ./dul_2021\n",
            "\u001b[33m  DEPRECATION: A future pip version will change local packages to be built in-place without first copying to a temporary directory. We recommend you use --use-feature=in-tree-build to test your packages with this new behavior before it becomes the default.\n",
            "   pip 21.3 will remove support for this functionality. You can find discussion regarding this at https://github.com/pypa/pip/issues/7555.\u001b[0m\n",
            "Building wheels for collected packages: dul-2021\n",
            "  Building wheel for dul-2021 (setup.py) ... \u001b[?25l\u001b[?25hdone\n",
            "  Created wheel for dul-2021: filename=dul_2021-0.1.0-py3-none-any.whl size=28255 sha256=b4355952007bb8e3738be084c1220c50e2b01f4a49e5ae60415793fd60d22dac\n",
            "  Stored in directory: /tmp/pip-ephem-wheel-cache-f41zbnkl/wheels/55/59/29/0fb1c635652157734f4d741f32fc11979149684e83e919de06\n",
            "Successfully built dul-2021\n",
            "Installing collected packages: dul-2021\n",
            "  Attempting uninstall: dul-2021\n",
            "    Found existing installation: dul-2021 0.1.0\n",
            "    Uninstalling dul-2021-0.1.0:\n",
            "      Successfully uninstalled dul-2021-0.1.0\n",
            "Successfully installed dul-2021-0.1.0\n"
          ]
        }
      ]
    },
    {
      "cell_type": "code",
      "metadata": {
        "id": "ZHWosWrbpO5Y"
      },
      "source": [
        "from dul_2021.utils.hw13_utils import *"
      ],
      "execution_count": 2,
      "outputs": []
    },
    {
      "cell_type": "code",
      "source": [
        "import os\n",
        "import numpy as np\n",
        "import copy\n",
        "from itertools import chain\n",
        "from typing import List, Any, Tuple\n",
        "\n",
        "import torch\n",
        "import torch.nn as nn\n",
        "import torch.optim as opt\n",
        "from torch.autograd import Variable\n",
        "from torch.utils import data\n",
        "import torch.nn.functional as F\n",
        "from torch.distributions.uniform import Uniform\n",
        "from torch.distributions.normal import Normal\n",
        "from tqdm.notebook import tqdm, trange"
      ],
      "metadata": {
        "id": "MN1lKhCa6PD7"
      },
      "execution_count": 3,
      "outputs": []
    },
    {
      "cell_type": "code",
      "source": [
        "device = torch.device(\"cuda\" if torch.cuda.is_available() else \"cpu\")"
      ],
      "metadata": {
        "id": "9vdymKfl6QYd"
      },
      "execution_count": 4,
      "outputs": []
    },
    {
      "cell_type": "markdown",
      "metadata": {
        "id": "dP8lmmk7Xrct"
      },
      "source": [
        "# Question 1: RealNVP on Higher Dimensions\n"
      ]
    },
    {
      "cell_type": "markdown",
      "metadata": {
        "id": "4wnyhDNqcAcw"
      },
      "source": [
        "In this problem, you will train a flow model to invertibly map a high dimensional dataset of celebrity\n",
        "faces to gaussian noise. The dataset is a low-resolution (32 × 32) version of the CelebA-HQ dataset that has been quantized to 2 bits per color channel.\n",
        "\n"
      ]
    },
    {
      "cell_type": "code",
      "metadata": {
        "id": "ysoGwlFaftC1",
        "outputId": "e7a4789f-4ecc-44f5-b39f-9c4624e6fa93",
        "colab": {
          "base_uri": "https://localhost:8080/",
          "height": 264
        }
      },
      "source": [
        "visualize_q1_data()"
      ],
      "execution_count": 5,
      "outputs": [
        {
          "output_type": "display_data",
          "data": {
            "image/png": "[encoded data removed]",
            "text/plain": [
              "<Figure size 432x288 with 1 Axes>"
            ]
          },
          "metadata": {
            "needs_background": "light"
          }
        }
      ]
    },
    {
      "cell_type": "markdown",
      "metadata": {
        "id": "iEMfKiqmfzJp"
      },
      "source": [
        "## Part (a): RealNVP\n"
      ]
    },
    {
      "cell_type": "markdown",
      "metadata": {
        "id": "ZSGU6Mz3ftZe"
      },
      "source": [
        "Use the affine coupling flow from RealNVP and a form of [data-dependent initialization](https://arxiv.org/abs/1602.07868) that normalizes activations from an initial forward pass with a minibatch.\n",
        "We describe a reference architecture below that can achieve good performance, but you are free\n",
        "and encouraged to use different architectures and/or structure your code differently."
      ]
    },
    {
      "cell_type": "markdown",
      "metadata": {
        "id": "QO6i0oY5CBGh"
      },
      "source": [
        "\n",
        "\n",
        "```\n",
        "Preprocess() # dequantization, logit trick from RealNVP (Dinh et al) Section 4.1\n",
        "\n",
        "for _ in range(4):\n",
        "  AffineCouplingWithCheckerboard() # Figure 3 in Dinh et al - (left)\n",
        "  ActNorm() # described in Glow (Kingma & Dhariwal) Section 3.1\n",
        "Squeeze(), # [b, c, h, w] --> [b, c*4, h//2, w//2]\n",
        "\n",
        "for _ in range(3):\n",
        "  AffineCouplingWithChannel()\n",
        "  ActNorm()\n",
        "Unsqueeze(), # [b, c*4, h//2, w//2] --> [b, c, h, w]\n",
        "\n",
        "for _ in range(3):\n",
        "  AffineCouplingWithCheckerboard()\n",
        "  ActNorm()\n",
        "```\n",
        "\n"
      ]
    },
    {
      "cell_type": "markdown",
      "metadata": {
        "id": "TX1Kyl8EBF45"
      },
      "source": [
        "Here, we provide pseudocode for the basic structure of each coupling layer. "
      ]
    },
    {
      "cell_type": "markdown",
      "metadata": {
        "id": "FyCXu1PSrIUb"
      },
      "source": [
        "\n",
        "\n",
        "```\n",
        "# pseudocode\n",
        "ResnetBlock: n_filters\n",
        "  h = x\n",
        "  h = conv2d(n_filters, n_filters, (1,1), stride=1, padding=0)(h)\n",
        "  h = relu(h)\n",
        "  h = conv2d(n_filters, n_filters, (3,3), stride=1, padding=1)(h)\n",
        "  h = relu(h)\n",
        "  h = conv2d(n_filters, n_filters, (1,1), stride=1, padding=0)(h)\n",
        "  return h + x\n",
        "\n",
        "SimpleResnet: n_filters = 256, n_blocks = 8, n_out\n",
        "  conv2d(in_channels, n_filters=128, (3,3), stride=1, padding=1)\n",
        "  apply 8 ResnetBlocks with n_filters=128\n",
        "  relu()\n",
        "  conv2d(n_filters, n_filters=n_out, (3,3), stride=1, padding=1)\n",
        "  \n",
        "AffineCoupling(x, mask):\n",
        "  x_ = x * mask\n",
        "  log_s, t = torch.chunk(SimpleResnet(x_), 2, dim=1)\n",
        "  # todo: calculate log_scale, as done in Q1(b)\n",
        "  t = t * (1.0 - mask)\n",
        "  log_scale = log_scale * (1.0 - mask)\n",
        "  z = x * torch.exp(log_scale) + t\n",
        "  log_det_jacobian = log_scale\n",
        "  return z, log_det_jacobian\n",
        "```\n",
        "\n"
      ]
    },
    {
      "cell_type": "markdown",
      "metadata": {
        "id": "rT4Mi1PlBb5B"
      },
      "source": [
        "We use an Adam Optimizer with a warmup over 200 steps till a learning rate of 5e-4. We didn’t decay the learning rate but it is a generally recommended practice while training generative models. We show samples from our model at the end of training, as well as interpolations between several images in our dataset.  Our reference solution achieves a test loss of about 0.40 bits/dim after 100 epochs. \n",
        "\n"
      ]
    },
    {
      "cell_type": "markdown",
      "metadata": {
        "id": "50WsEzhx4Uua"
      },
      "source": [
        "**You will provide these deliverables**\n",
        "\n",
        "\n",
        "1.   Over the course of training, record the average negative log-likelihood (nats / dim) of the training data (per minibatch) and test data (for your entire test set). Code is provided that automatically plots the training curves. \n",
        "2.   Report the final test set performance of your final model\n",
        "3. 100 samples from the final trained model\n",
        "4. 5 rows of interpolations between images in the test set; each row consists of the start and end images, and 4 intermediate ones. You should return 30 total images. \n",
        "\n"
      ]
    },
    {
      "cell_type": "markdown",
      "metadata": {
        "id": "EleefdNuciyc"
      },
      "source": [
        "### Solution\n",
        "Fill out the function below and return the necessary arguments. Feel free to create more cells if need be."
      ]
    },
    {
      "cell_type": "code",
      "source": [
        "def squeeze(x: torch.Tensor) -> torch.Tensor:\n",
        "    # B x C x H x W -> B x 4C x H/2 x W/2\n",
        "    B, C, H, W = x.shape\n",
        "    x = x.reshape(B, C, H, W // 2, 2) \n",
        "    x = x.reshape(B, C, H // 2, 2, W // 2, 2)\n",
        "    x = x.permute(0, 1, 3, 5, 2, 4)\n",
        "    x = x.reshape(B, C * 4, H // 2, W // 2)\n",
        "    return x\n",
        "\n",
        "\n",
        "def unsqueeze(x: torch.Tensor) -> torch.Tensor: \n",
        "    # B x 4C x H/2 x W/2 -> B x C x H x W\n",
        "    B, C, H, W = x.shape\n",
        "    x = x.reshape(B, C // 4, 2, 2, H, W)\n",
        "    x = x.permute(0, 1, 4, 2, 5, 3)\n",
        "    x = x.reshape(B, C // 4, H * 2, W, 2)\n",
        "    x = x.reshape(B, C // 4, H * 2, W * 2)\n",
        "    return x"
      ],
      "metadata": {
        "id": "82cUbocHA8tg"
      },
      "execution_count": 6,
      "outputs": []
    },
    {
      "cell_type": "code",
      "source": [
        "class ActNorm(nn.Module):\n",
        "    def __init__(self, n_channels: int):\n",
        "        super().__init__()\n",
        "        self.log_scale = nn.Parameter(torch.zeros(1, n_channels, 1, 1))\n",
        "        self.shift = nn.Parameter(torch.zeros(1, n_channels, 1, 1))\n",
        "        \n",
        "        self.n_channels = n_channels\n",
        "        self.initialized = False\n",
        "\n",
        "    def forward(self, x: torch.Tensor, reverse: bool = False) -> torch.Tensor:\n",
        "        if reverse:\n",
        "            return (x - self.shift) * torch.exp(-self.log_scale), self.log_scale\n",
        "        else:\n",
        "          if not self.initialized:\n",
        "              self.log_scale.data =  -torch.log(torch.std(x, dim=(0, 2, 3))).reshape(1, self.n_channels, 1, 1)\n",
        "              self.shift.data = -torch.mean(x, dim=(0, 2, 3), keepdim=True) * torch.exp(self.log_scale.data)\n",
        "              self.initialized = True\n",
        "            \n",
        "        return x * torch.exp(self.log_scale) + self.shift, self.log_scale"
      ],
      "metadata": {
        "id": "h5MdDQki-jZN"
      },
      "execution_count": 14,
      "outputs": []
    },
    {
      "cell_type": "code",
      "source": [
        "class ResnetBlock(nn.Module): \n",
        "    def __init__(self, n_filters: int):\n",
        "        super().__init__()\n",
        "        self.block = nn.Sequential( \n",
        "            nn.Conv2d(n_filters, n_filters, (1, 1), stride=1, padding=0), \n",
        "            nn.ReLU(), \n",
        "            nn.Conv2d(n_filters, n_filters, (3, 3), stride=1, padding=1), \n",
        "            nn.ReLU(), \n",
        "            nn.Conv2d(n_filters, n_filters, (1, 1), stride=1, padding=0))\n",
        "\n",
        "    def forward(self, x: torch.Tensor) -> torch.Tensor: \n",
        "        return x + self.block(x)\n",
        "\n",
        "class SimpleResnet(nn.Module): \n",
        "    def __init__(self, \n",
        "                 in_channels: int = 3, \n",
        "                 out_channels: int = 6,\n",
        "                 n_filters: int = 128, \n",
        "                 n_blocks: int = 8): \n",
        "        super().__init__() \n",
        "        layers = [nn.Conv2d(in_channels, n_filters, (3, 3), stride=1, padding=1), \n",
        "                  nn.ReLU()]\n",
        "        layers.extend([ResnetBlock(n_filters) for _ in range(n_blocks)])\n",
        "        layers.extend([nn.ReLU(), \n",
        "                       nn.Conv2d(n_filters, out_channels, (3, 3), stride=1, padding=1)])\n",
        "        self.resnet = nn.Sequential(*layers)\n",
        "\n",
        "    def forward(self, x: torch.Tensor) -> torch.Tensor: \n",
        "        return self.resnet(x)"
      ],
      "metadata": {
        "id": "GgqZ5s-0I_cj"
      },
      "execution_count": 15,
      "outputs": []
    },
    {
      "cell_type": "code",
      "source": [
        "class AffineCheckerboardTransform(nn.Module):\n",
        "    def __init__(self, top_left: float = 1.0):\n",
        "        super().__init__()\n",
        "        self.mask = np.arange(32).reshape(-1, 1) + np.arange(32)\n",
        "        self.mask = (top_left + self.mask) % 2\n",
        "        self.mask = torch.tensor(self.mask.reshape(-1, 1, 32, 32), \n",
        "                                 dtype=torch.float, device=device)\n",
        "        \n",
        "        self.scale = nn.Parameter(torch.zeros(1))\n",
        "        self.scale_shift = nn.Parameter(torch.zeros(1))\n",
        "        self.resnet = SimpleResnet()\n",
        "\n",
        "    def forward(self, x: torch.Tensor, reverse: bool = False) -> torch.Tensor: \n",
        "        batch_size, n_channels, _, _ = x.shape\n",
        "        mask = self.mask.repeat(batch_size, 1, 1, 1)\n",
        "\n",
        "        log_s, t = self.resnet(x * mask).split(n_channels, dim=1)\n",
        "        log_s = self.scale * torch.tanh(log_s) + self.scale_shift\n",
        "        t = t * (1.0 - mask)\n",
        "        log_s = log_s * (1.0 - mask)\n",
        "\n",
        "        if not reverse: \n",
        "            x = x * torch.exp(log_s) + t\n",
        "        else: \n",
        "            x = (x - t) * torch.exp(-log_s)\n",
        "\n",
        "        return x, log_s\n",
        "\n",
        "\n",
        "class AffineChannelTransform(nn.Module): \n",
        "    def __init__(self, modify_top: bool):\n",
        "        super().__init__()\n",
        "        self.modify_top = modify_top\n",
        "        self.scale = nn.Parameter(torch.zeros(1))\n",
        "        self.scale_shift = nn.Parameter(torch.zeros(1))\n",
        "        self.resnet = SimpleResnet(in_channels=6, out_channels=12)\n",
        "\n",
        "    def forward(self, x: torch.Tensor, reverse: bool = False) -> torch.Tensor:\n",
        "        _, n_channels, _, _ = x.shape\n",
        "\n",
        "        on, off = x.split(n_channels // 2, dim=1)\n",
        "        if not self.modify_top: \n",
        "            on, off = off, on\n",
        "\n",
        "        log_s, t = self.resnet(off).split(n_channels // 2, dim=1)\n",
        "        log_s = self.scale * torch.tanh(log_s) + self.scale_shift\n",
        "\n",
        "        if not reverse: \n",
        "            on = on * torch.exp(log_s) + t\n",
        "        else: \n",
        "            on = (on - t) * torch.exp(-log_s)\n",
        "\n",
        "        if self.modify_top:\n",
        "            return torch.cat([on, off], dim=1), torch.cat([log_s, torch.zeros_like(log_s)], dim=1)\n",
        "            \n",
        "        return torch.cat([off, on], dim=1), torch.cat([torch.zeros_like(log_s), log_s], dim=1)"
      ],
      "metadata": {
        "id": "YqC54wK1NPMs"
      },
      "execution_count": 16,
      "outputs": []
    },
    {
      "cell_type": "code",
      "source": [
        "class RealNVP(nn.Module): \n",
        "    def __init__(self): \n",
        "        super().__init__()\n",
        "        self.prior = torch.distributions.Normal(torch.tensor(0.).to(device), torch.tensor(1.).to(device))\n",
        "\n",
        "        self.layer_1 = nn.ModuleList([\n",
        "            AffineCheckerboardTransform(1.0),\n",
        "            ActNorm(3),\n",
        "            AffineCheckerboardTransform(0.0),\n",
        "            ActNorm(3),\n",
        "            AffineCheckerboardTransform(1.0),\n",
        "            ActNorm(3),\n",
        "            AffineCheckerboardTransform(0.0),\n",
        "            ActNorm(3)\n",
        "        ])\n",
        "\n",
        "        self.layer_2 = nn.ModuleList([\n",
        "            AffineChannelTransform(True),\n",
        "            ActNorm(12),\n",
        "            AffineChannelTransform(False),\n",
        "            ActNorm(12),\n",
        "            AffineChannelTransform(True),\n",
        "            ActNorm(12)\n",
        "        ])\n",
        "\n",
        "        self.layer_3 = nn.ModuleList([\n",
        "            AffineCheckerboardTransform(1.0),\n",
        "            ActNorm(3),\n",
        "            AffineCheckerboardTransform(0.0),\n",
        "            ActNorm(3),\n",
        "            AffineCheckerboardTransform(1.0), \n",
        "        ])\n",
        "\n",
        "    def flow(self, x: torch.Tensor) -> Tuple[torch.Tensor, torch.Tensor]: \n",
        "        z, log_det = x, torch.zeros_like(x)\n",
        "\n",
        "        for op in self.layer_1:\n",
        "            z, delta_log_det = op.forward(z)\n",
        "            log_det += delta_log_det\n",
        "\n",
        "        z, log_det = squeeze(z), squeeze(log_det)\n",
        "        for op in self.layer_2:\n",
        "            z, delta_log_det = op.forward(z)\n",
        "            log_det += delta_log_det\n",
        "\n",
        "        z, log_det = unsqueeze(z), unsqueeze(log_det)\n",
        "        for op in self.layer_3:\n",
        "            z, delta_log_det = op.forward(z)\n",
        "            log_det += delta_log_det\n",
        "\n",
        "        return z, log_det\n",
        "\n",
        "    def invert_flow(self, z: torch.Tensor) -> torch.Tensor: \n",
        "        x = z\n",
        "\n",
        "        for op in reversed(self.layer_3):\n",
        "            x, _ = op.forward(x, reverse=True)\n",
        "\n",
        "        x = squeeze(x)\n",
        "        for op in reversed(self.layer_2):\n",
        "            x, _ = op.forward(x, reverse=True)\n",
        "\n",
        "        x = unsqueeze(x)\n",
        "        for op in reversed(self.layer_1):\n",
        "            x, _ = op.forward(x, reverse=True)\n",
        "\n",
        "        return x\n",
        "\n",
        "    def log_prob(self, x: torch.Tensor) -> torch.Tensor: \n",
        "        z, log_det = self.flow(x)\n",
        "        log_prob = torch.sum(self.prior.log_prob(z), (1, 2, 3)) + torch.sum(log_det, (1, 2, 3)) \n",
        "        return log_prob\n",
        "\n",
        "    def sample(self, num_samples: int) -> torch.Tensor: \n",
        "        z = self.prior.sample((num_samples, 3, 32, 32))\n",
        "        x = self.invert_flow(z)\n",
        "        return x"
      ],
      "metadata": {
        "id": "Nh8NWAIgWUTF"
      },
      "execution_count": 17,
      "outputs": []
    },
    {
      "cell_type": "code",
      "source": [
        "def reverse_preprocess(x): \n",
        "    x = F.sigmoid(x)\n",
        "    x -= 0.05\n",
        "    x / 0.9 \n",
        "    return x\n",
        "\n",
        "def forward_preprocess(x, dequantize=True): \n",
        "    if dequantize: \n",
        "        x += Uniform(0.0, 1.0).sample(x.shape).to(device)\n",
        "\n",
        "    x /= 4.0\n",
        "    x *= 0.9\n",
        "    x += 0.05\n",
        "    logit = torch.log(x) - torch.log(1.0 - x)\n",
        "    log_det = F.softplus(logit) + F.softplus(-logit) + torch.log(torch.tensor(0.9)) - torch.log(torch.tensor(4.0))\n",
        "    log_det = torch.sum(log_det, dim=(1, 2, 3))\n",
        "    return logit, log_det\n",
        "\n",
        "\n",
        "def test_epoch(model, loader) -> float: \n",
        "    model.eval()\n",
        "    losses = []\n",
        "\n",
        "    for batch in loader: \n",
        "        with torch.no_grad(): \n",
        "            batch = batch.float().to(device)\n",
        "            batch, log_det = forward_preprocess(batch)\n",
        "            log_prob = model.log_prob(batch)\n",
        "            log_prob += log_det\n",
        "\n",
        "            loss = -torch.mean(log_prob) / (3 * 32 * 32)\n",
        "            losses.append(loss.item())\n",
        "\n",
        "    return np.mean(losses)\n",
        "\n",
        "\n",
        "def train_epoch(model, loader, optimizer) -> List[float]: \n",
        "    model.train()\n",
        "    losses = []\n",
        "\n",
        "    for batch in tqdm(loader, desc=\"Batch\", leave=False): \n",
        "        batch = batch.float().to(device)\n",
        "        batch, log_det = forward_preprocess(batch)\n",
        "        log_prob = model.log_prob(batch)\n",
        "        log_prob += log_det\n",
        "\n",
        "        loss = -torch.mean(log_prob) / (3 * 32 * 32)\n",
        "\n",
        "        optimizer.zero_grad()\n",
        "        loss.backward()\n",
        "        optimizer.step() \n",
        "\n",
        "        losses.append(loss.item())\n",
        "\n",
        "    return np.array(losses)\n",
        "\n",
        "\n",
        "def train(model, train_data, test_data, \n",
        "          n_epochs=100, lr=5e-4, batch_size=64) -> Tuple[np.ndarray, np.ndarray]: \n",
        "    train_losses, test_losses = [], []\n",
        "    test_loader = data.DataLoader(train_data.transpose(0, 3, 1, 2).astype(\"float\"), \n",
        "                                  batch_size=batch_size, shuffle=True)\n",
        "    train_loader = data.DataLoader(test_data.transpose(0, 3, 1, 2).astype(\"float\"), \n",
        "                                   batch_size=batch_size, shuffle=False)\n",
        "    optimizer = opt.Adam(model.parameters(), lr=lr)\n",
        "\n",
        "    for _ in trange(n_epochs, desc=\"Epoch\"): \n",
        "        epoch_losses = train_epoch(model, train_loader, optimizer) \n",
        "        test_loss = test_epoch(model, test_loader)\n",
        "\n",
        "        train_losses.extend(epoch_losses)\n",
        "        test_losses.append(test_loss)\n",
        "\n",
        "    return train_losses, test_losses\n",
        "\n",
        "\n",
        "def sample(model, num_samples) -> np.ndarray:\n",
        "    model.eval()\n",
        "    with torch.no_grad(): \n",
        "        raw_samples = model.sample(num_samples).cpu()\n",
        "        samples = reverse_preprocess(raw_samples)\n",
        "        return samples.cpu().detach().numpy()\n",
        "\n",
        "\n",
        "def interpolate(model, data): \n",
        "    model.eval()\n",
        "    indices = np.random.choice(len(data), size=10, replace=False)\n",
        "    images = torch.tensor(data[indices], dtype=torch.float, device=device)\n",
        "    \n",
        "    with torch.no_grad(): \n",
        "        x, _ = forward_preprocess(images, dequantize=False)\n",
        "        zs, _ = model.flow(x)\n",
        "        latents = []\n",
        "\n",
        "        for i in range(0, 10, 2): \n",
        "            a, b = zs[i], zs[i + 1]\n",
        "            diff = (b - a) / 5.0\n",
        "\n",
        "            latents.append(a)\n",
        "            for j in range(1, 5): \n",
        "                latents.append(a + diff * float(j))\n",
        "            latents.append(b)\n",
        "\n",
        "        latents = torch.cat(latents, dim=0)\n",
        "        result = model.invert_flow(latents)\n",
        "        result = reverse_preprocess(result)\n",
        "\n",
        "    return result.cpu().numpy()"
      ],
      "metadata": {
        "id": "ihUGzlUAeEwM"
      },
      "execution_count": 18,
      "outputs": []
    },
    {
      "cell_type": "code",
      "metadata": {
        "id": "NWualafa-tpD"
      },
      "source": [
        "def q1_a(train_data, test_data):\n",
        "  \"\"\"\n",
        "  train_data: A (n_train, H, W, 3) uint8 numpy array of quantized images with values in {0, 1, 2, 3}\n",
        "  test_data: A (n_test, H, W, 3) uint8 numpy array of binary images with values in {0, 1, 2, 3}\n",
        "\n",
        "  Returns\n",
        "  - a (# of training iterations,) numpy array of train_losses evaluated every minibatch\n",
        "  - a (# of epochs + 1,) numpy array of test_losses evaluated once at initialization and after each epoch\n",
        "  - a numpy array of size (100, H, W, 3) of samples with values in [0, 1]\n",
        "  - a numpy array of size (30, H, W, 3) of interpolations with values in [0, 1].\n",
        "  \"\"\"\n",
        "  model = RealNVP().to(device)\n",
        "  train_losses, test_losses = train(model, train_data, test_data, n_epochs=1)\n",
        "  samples = sample(model, 100).transpose(0, 2, 3, 1)\n",
        "  interpolations = interpolate(model, test_data).transpose(0, 2, 3, 1)\n",
        "  return train_losses, test_losses, samples, interpolations"
      ],
      "execution_count": 19,
      "outputs": []
    },
    {
      "cell_type": "markdown",
      "metadata": {
        "id": "v0EPVfz1cpq0"
      },
      "source": [
        "### Results\n",
        "\n",
        "Once you've implemented `q1_a`, execute the cells below to visualize and save your results\n",
        "\n"
      ]
    },
    {
      "cell_type": "code",
      "source": [
        "q1_save_results(q1_a, 'a')"
      ],
      "metadata": {
        "colab": {
          "base_uri": "https://localhost:8080/",
          "height": 393,
          "referenced_widgets": [
            "72d09fb70f5f4a118ff22365abe0f6ba",
            "a7ebfb85920944a48441dd6827d07bc7",
            "7057f348d9f648ae8263eefef00456ee",
            "43cda74088da4de290155df97edb000c",
            "ad8566219cb54ccbbf75c285c271690e",
            "e3107d3d40f743cda5211a491c389f0e",
            "42ebda6a0c574040a699bd0e925c4c6c",
            "2634b82cb9824e88a8c4f3867035c5cc",
            "b078db5708164693906c6661ddb4f9f4",
            "153d7c60525e4337a9997df3fde8e5d8",
            "db8c9ee17a274bc8bcb921c8bcf5b7c0",
            "10a2c230f137472d97801890ed790a19",
            "d7871a8638c246929c23c19f390c4337",
            "55d754e170934ef2bbbb4d53f3460cb6",
            "84d955f4bc6b4e6a9e7b7e6c913ee4d1",
            "7d3ad8ac908c4cd3b599c030321a071b",
            "e8d31f1c66df40d9997997136aacb700",
            "8133f7c27aa347b4b465273304ee7657",
            "0b23b52f85894a09b9adf08a623da2b2",
            "ee489353a40b4d7db5fbb5c36670e904",
            "83f8c5aeb9744e38bcbe80af3b055d89",
            "90c2c62d4af347d2adaf5db4e45f8790"
          ]
        },
        "id": "r61agy58yUqf",
        "outputId": "6cbc7354-9dc6-4090-9ad7-800cdcfc2815"
      },
      "execution_count": 21,
      "outputs": [
        {
          "output_type": "display_data",
          "data": {
            "application/vnd.jupyter.widget-view+json": {
              "model_id": "72d09fb70f5f4a118ff22365abe0f6ba",
              "version_minor": 0,
              "version_major": 2
            },
            "text/plain": [
              "Epoch:   0%|          | 0/1 [00:00<?, ?it/s]"
            ]
          },
          "metadata": {}
        },
        {
          "output_type": "display_data",
          "data": {
            "application/vnd.jupyter.widget-view+json": {
              "model_id": "10a2c230f137472d97801890ed790a19",
              "version_minor": 0,
              "version_major": 2
            },
            "text/plain": [
              "Batch:   0%|          | 0/107 [00:00<?, ?it/s]"
            ]
          },
          "metadata": {}
        },
        {
          "output_type": "stream",
          "name": "stderr",
          "text": [
            "/usr/local/lib/python3.7/dist-packages/torch/nn/functional.py:1806: UserWarning: nn.functional.sigmoid is deprecated. Use torch.sigmoid instead.\n",
            "  warnings.warn(\"nn.functional.sigmoid is deprecated. Use torch.sigmoid instead.\")\n"
          ]
        },
        {
          "output_type": "error",
          "ename": "RuntimeError",
          "evalue": "ignored",
          "traceback": [
            "\u001b[0;31m---------------------------------------------------------------------------\u001b[0m",
            "\u001b[0;31mRuntimeError\u001b[0m                              Traceback (most recent call last)",
            "\u001b[0;32m<ipython-input-21-dc907c359b25>\u001b[0m in \u001b[0;36m<module>\u001b[0;34m()\u001b[0m\n\u001b[0;32m----> 1\u001b[0;31m \u001b[0mq1_save_results\u001b[0m\u001b[0;34m(\u001b[0m\u001b[0mq1_a\u001b[0m\u001b[0;34m,\u001b[0m \u001b[0;34m'a'\u001b[0m\u001b[0;34m)\u001b[0m\u001b[0;34m\u001b[0m\u001b[0;34m\u001b[0m\u001b[0m\n\u001b[0m",
            "\u001b[0;32m/content/dul_2021/utils/hw13_utils.py\u001b[0m in \u001b[0;36mq1_save_results\u001b[0;34m(fn, part)\u001b[0m\n\u001b[1;32m     21\u001b[0m     \u001b[0mtrain_data\u001b[0m\u001b[0;34m,\u001b[0m \u001b[0mtest_data\u001b[0m \u001b[0;34m=\u001b[0m \u001b[0mload_pickled_data\u001b[0m\u001b[0;34m(\u001b[0m\u001b[0mjoin\u001b[0m\u001b[0;34m(\u001b[0m\u001b[0mdata_dir\u001b[0m\u001b[0;34m,\u001b[0m \u001b[0;34m'celeb.pkl'\u001b[0m\u001b[0;34m)\u001b[0m\u001b[0;34m)\u001b[0m\u001b[0;34m\u001b[0m\u001b[0;34m\u001b[0m\u001b[0m\n\u001b[1;32m     22\u001b[0m \u001b[0;34m\u001b[0m\u001b[0m\n\u001b[0;32m---> 23\u001b[0;31m     \u001b[0mtrain_losses\u001b[0m\u001b[0;34m,\u001b[0m \u001b[0mtest_losses\u001b[0m\u001b[0;34m,\u001b[0m \u001b[0msamples\u001b[0m\u001b[0;34m,\u001b[0m \u001b[0minterpolations\u001b[0m \u001b[0;34m=\u001b[0m \u001b[0mfn\u001b[0m\u001b[0;34m(\u001b[0m\u001b[0mtrain_data\u001b[0m\u001b[0;34m,\u001b[0m \u001b[0mtest_data\u001b[0m\u001b[0;34m)\u001b[0m\u001b[0;34m\u001b[0m\u001b[0;34m\u001b[0m\u001b[0m\n\u001b[0m\u001b[1;32m     24\u001b[0m     \u001b[0msamples\u001b[0m \u001b[0;34m=\u001b[0m \u001b[0msamples\u001b[0m\u001b[0;34m.\u001b[0m\u001b[0mastype\u001b[0m\u001b[0;34m(\u001b[0m\u001b[0;34m'float'\u001b[0m\u001b[0;34m)\u001b[0m\u001b[0;34m\u001b[0m\u001b[0;34m\u001b[0m\u001b[0m\n\u001b[1;32m     25\u001b[0m     \u001b[0minterpolations\u001b[0m \u001b[0;34m=\u001b[0m \u001b[0minterpolations\u001b[0m\u001b[0;34m.\u001b[0m\u001b[0mastype\u001b[0m\u001b[0;34m(\u001b[0m\u001b[0;34m'float'\u001b[0m\u001b[0;34m)\u001b[0m\u001b[0;34m\u001b[0m\u001b[0;34m\u001b[0m\u001b[0m\n",
            "\u001b[0;32m<ipython-input-19-a51800c84998>\u001b[0m in \u001b[0;36mq1_a\u001b[0;34m(train_data, test_data)\u001b[0m\n\u001b[1;32m     13\u001b[0m   \u001b[0mtrain_losses\u001b[0m\u001b[0;34m,\u001b[0m \u001b[0mtest_losses\u001b[0m \u001b[0;34m=\u001b[0m \u001b[0mtrain\u001b[0m\u001b[0;34m(\u001b[0m\u001b[0mmodel\u001b[0m\u001b[0;34m,\u001b[0m \u001b[0mtrain_data\u001b[0m\u001b[0;34m,\u001b[0m \u001b[0mtest_data\u001b[0m\u001b[0;34m,\u001b[0m \u001b[0mn_epochs\u001b[0m\u001b[0;34m=\u001b[0m\u001b[0;36m1\u001b[0m\u001b[0;34m)\u001b[0m\u001b[0;34m\u001b[0m\u001b[0;34m\u001b[0m\u001b[0m\n\u001b[1;32m     14\u001b[0m   \u001b[0msamples\u001b[0m \u001b[0;34m=\u001b[0m \u001b[0msample\u001b[0m\u001b[0;34m(\u001b[0m\u001b[0mmodel\u001b[0m\u001b[0;34m,\u001b[0m \u001b[0;36m100\u001b[0m\u001b[0;34m)\u001b[0m\u001b[0;34m.\u001b[0m\u001b[0mtranspose\u001b[0m\u001b[0;34m(\u001b[0m\u001b[0;36m0\u001b[0m\u001b[0;34m,\u001b[0m \u001b[0;36m2\u001b[0m\u001b[0;34m,\u001b[0m \u001b[0;36m3\u001b[0m\u001b[0;34m,\u001b[0m \u001b[0;36m1\u001b[0m\u001b[0;34m)\u001b[0m\u001b[0;34m\u001b[0m\u001b[0;34m\u001b[0m\u001b[0m\n\u001b[0;32m---> 15\u001b[0;31m   \u001b[0minterpolations\u001b[0m \u001b[0;34m=\u001b[0m \u001b[0minterpolate\u001b[0m\u001b[0;34m(\u001b[0m\u001b[0mmodel\u001b[0m\u001b[0;34m,\u001b[0m \u001b[0mtest_data\u001b[0m\u001b[0;34m)\u001b[0m\u001b[0;34m.\u001b[0m\u001b[0mtranspose\u001b[0m\u001b[0;34m(\u001b[0m\u001b[0;36m0\u001b[0m\u001b[0;34m,\u001b[0m \u001b[0;36m2\u001b[0m\u001b[0;34m,\u001b[0m \u001b[0;36m3\u001b[0m\u001b[0;34m,\u001b[0m \u001b[0;36m1\u001b[0m\u001b[0;34m)\u001b[0m\u001b[0;34m\u001b[0m\u001b[0;34m\u001b[0m\u001b[0m\n\u001b[0m\u001b[1;32m     16\u001b[0m   \u001b[0;32mreturn\u001b[0m \u001b[0mtrain_losses\u001b[0m\u001b[0;34m,\u001b[0m \u001b[0mtest_losses\u001b[0m\u001b[0;34m,\u001b[0m \u001b[0msamples\u001b[0m\u001b[0;34m,\u001b[0m \u001b[0minterpolations\u001b[0m\u001b[0;34m\u001b[0m\u001b[0;34m\u001b[0m\u001b[0m\n",
            "\u001b[0;32m<ipython-input-18-9af0d1df504a>\u001b[0m in \u001b[0;36minterpolate\u001b[0;34m(model, data)\u001b[0m\n\u001b[1;32m     90\u001b[0m     \u001b[0;32mwith\u001b[0m \u001b[0mtorch\u001b[0m\u001b[0;34m.\u001b[0m\u001b[0mno_grad\u001b[0m\u001b[0;34m(\u001b[0m\u001b[0;34m)\u001b[0m\u001b[0;34m:\u001b[0m\u001b[0;34m\u001b[0m\u001b[0;34m\u001b[0m\u001b[0m\n\u001b[1;32m     91\u001b[0m         \u001b[0mx\u001b[0m\u001b[0;34m,\u001b[0m \u001b[0m_\u001b[0m \u001b[0;34m=\u001b[0m \u001b[0mforward_preprocess\u001b[0m\u001b[0;34m(\u001b[0m\u001b[0mimages\u001b[0m\u001b[0;34m,\u001b[0m \u001b[0mdequantize\u001b[0m\u001b[0;34m=\u001b[0m\u001b[0;32mFalse\u001b[0m\u001b[0;34m)\u001b[0m\u001b[0;34m\u001b[0m\u001b[0;34m\u001b[0m\u001b[0m\n\u001b[0;32m---> 92\u001b[0;31m         \u001b[0mzs\u001b[0m\u001b[0;34m,\u001b[0m \u001b[0m_\u001b[0m \u001b[0;34m=\u001b[0m \u001b[0mmodel\u001b[0m\u001b[0;34m.\u001b[0m\u001b[0mflow\u001b[0m\u001b[0;34m(\u001b[0m\u001b[0mx\u001b[0m\u001b[0;34m)\u001b[0m\u001b[0;34m\u001b[0m\u001b[0;34m\u001b[0m\u001b[0m\n\u001b[0m\u001b[1;32m     93\u001b[0m         \u001b[0mlatents\u001b[0m \u001b[0;34m=\u001b[0m \u001b[0;34m[\u001b[0m\u001b[0;34m]\u001b[0m\u001b[0;34m\u001b[0m\u001b[0;34m\u001b[0m\u001b[0m\n\u001b[1;32m     94\u001b[0m \u001b[0;34m\u001b[0m\u001b[0m\n",
            "\u001b[0;32m<ipython-input-17-fc54db73a790>\u001b[0m in \u001b[0;36mflow\u001b[0;34m(self, x)\u001b[0m\n\u001b[1;32m     36\u001b[0m \u001b[0;34m\u001b[0m\u001b[0m\n\u001b[1;32m     37\u001b[0m         \u001b[0;32mfor\u001b[0m \u001b[0mop\u001b[0m \u001b[0;32min\u001b[0m \u001b[0mself\u001b[0m\u001b[0;34m.\u001b[0m\u001b[0mlayer_1\u001b[0m\u001b[0;34m:\u001b[0m\u001b[0;34m\u001b[0m\u001b[0;34m\u001b[0m\u001b[0m\n\u001b[0;32m---> 38\u001b[0;31m             \u001b[0mz\u001b[0m\u001b[0;34m,\u001b[0m \u001b[0mdelta_log_det\u001b[0m \u001b[0;34m=\u001b[0m \u001b[0mop\u001b[0m\u001b[0;34m.\u001b[0m\u001b[0mforward\u001b[0m\u001b[0;34m(\u001b[0m\u001b[0mz\u001b[0m\u001b[0;34m)\u001b[0m\u001b[0;34m\u001b[0m\u001b[0;34m\u001b[0m\u001b[0m\n\u001b[0m\u001b[1;32m     39\u001b[0m             \u001b[0mlog_det\u001b[0m \u001b[0;34m+=\u001b[0m \u001b[0mdelta_log_det\u001b[0m\u001b[0;34m\u001b[0m\u001b[0;34m\u001b[0m\u001b[0m\n\u001b[1;32m     40\u001b[0m \u001b[0;34m\u001b[0m\u001b[0m\n",
            "\u001b[0;32m<ipython-input-16-ae3b4453525f>\u001b[0m in \u001b[0;36mforward\u001b[0;34m(self, x, reverse)\u001b[0m\n\u001b[1;32m     15\u001b[0m         \u001b[0mmask\u001b[0m \u001b[0;34m=\u001b[0m \u001b[0mself\u001b[0m\u001b[0;34m.\u001b[0m\u001b[0mmask\u001b[0m\u001b[0;34m.\u001b[0m\u001b[0mrepeat\u001b[0m\u001b[0;34m(\u001b[0m\u001b[0mbatch_size\u001b[0m\u001b[0;34m,\u001b[0m \u001b[0;36m1\u001b[0m\u001b[0;34m,\u001b[0m \u001b[0;36m1\u001b[0m\u001b[0;34m,\u001b[0m \u001b[0;36m1\u001b[0m\u001b[0;34m)\u001b[0m\u001b[0;34m\u001b[0m\u001b[0;34m\u001b[0m\u001b[0m\n\u001b[1;32m     16\u001b[0m \u001b[0;34m\u001b[0m\u001b[0m\n\u001b[0;32m---> 17\u001b[0;31m         \u001b[0mlog_s\u001b[0m\u001b[0;34m,\u001b[0m \u001b[0mt\u001b[0m \u001b[0;34m=\u001b[0m \u001b[0mself\u001b[0m\u001b[0;34m.\u001b[0m\u001b[0mresnet\u001b[0m\u001b[0;34m(\u001b[0m\u001b[0mx\u001b[0m \u001b[0;34m*\u001b[0m \u001b[0mmask\u001b[0m\u001b[0;34m)\u001b[0m\u001b[0;34m.\u001b[0m\u001b[0msplit\u001b[0m\u001b[0;34m(\u001b[0m\u001b[0mn_channels\u001b[0m\u001b[0;34m,\u001b[0m \u001b[0mdim\u001b[0m\u001b[0;34m=\u001b[0m\u001b[0;36m1\u001b[0m\u001b[0;34m)\u001b[0m\u001b[0;34m\u001b[0m\u001b[0;34m\u001b[0m\u001b[0m\n\u001b[0m\u001b[1;32m     18\u001b[0m         \u001b[0mlog_s\u001b[0m \u001b[0;34m=\u001b[0m \u001b[0mself\u001b[0m\u001b[0;34m.\u001b[0m\u001b[0mscale\u001b[0m \u001b[0;34m*\u001b[0m \u001b[0mtorch\u001b[0m\u001b[0;34m.\u001b[0m\u001b[0mtanh\u001b[0m\u001b[0;34m(\u001b[0m\u001b[0mlog_s\u001b[0m\u001b[0;34m)\u001b[0m \u001b[0;34m+\u001b[0m \u001b[0mself\u001b[0m\u001b[0;34m.\u001b[0m\u001b[0mscale_shift\u001b[0m\u001b[0;34m\u001b[0m\u001b[0;34m\u001b[0m\u001b[0m\n\u001b[1;32m     19\u001b[0m         \u001b[0mt\u001b[0m \u001b[0;34m=\u001b[0m \u001b[0mt\u001b[0m \u001b[0;34m*\u001b[0m \u001b[0;34m(\u001b[0m\u001b[0;36m1.0\u001b[0m \u001b[0;34m-\u001b[0m \u001b[0mmask\u001b[0m\u001b[0;34m)\u001b[0m\u001b[0;34m\u001b[0m\u001b[0;34m\u001b[0m\u001b[0m\n",
            "\u001b[0;31mRuntimeError\u001b[0m: The size of tensor a (3) must match the size of tensor b (32) at non-singleton dimension 3"
          ]
        }
      ]
    },
    {
      "cell_type": "code",
      "metadata": {
        "id": "xNxXqVZpAd_V"
      },
      "source": [
        "q1_save_results(q1_a, 'a')"
      ],
      "execution_count": null,
      "outputs": []
    },
    {
      "cell_type": "markdown",
      "metadata": {
        "id": "1Hi51jz3f50m"
      },
      "source": [
        "## Part (b): Exploring bad masking schemes\n",
        "\n",
        "The choice of masking or partitioning scheme affects the quality of the final flow model. In this part, design a *bad* masking scheme and train a model with it on the same CelebA dataset. \n",
        "\n",
        "**Provide the same deliverables as part (a)**"
      ]
    },
    {
      "cell_type": "markdown",
      "metadata": {
        "id": "ahkg1ZWJrntP"
      },
      "source": [
        "### Solution"
      ]
    },
    {
      "cell_type": "code",
      "metadata": {
        "id": "3Pw-8auZf6oE"
      },
      "source": [
        "def q1_b(train_data, test_data):\n",
        "  \"\"\"\n",
        "  train_data: A (n_train, H, W, 3) uint8 numpy array of quantized images with values in {0, 1, 2, 3}\n",
        "  test_data: A (n_test, H, W, 3) uint8 numpy array of binary images with values in {0, 1, 2, 3}\n",
        "\n",
        "  Returns\n",
        "  - a (# of training iterations,) numpy array of train_losses evaluated every minibatch\n",
        "  - a (# of epochs + 1,) numpy array of test_losses evaluated once at initialization and after each epoch\n",
        "  - a numpy array of size (100, 3, H, W) of samples with values in [0, 1]\n",
        "  - a numpy array of size (30, 3, H, W) of interpolations with values in [0, 1].\n",
        "  \"\"\"\n",
        "  \n",
        "  \"\"\" YOUR CODE HERE \"\"\""
      ],
      "execution_count": null,
      "outputs": []
    },
    {
      "cell_type": "markdown",
      "metadata": {
        "id": "Yr3okDIPrxFO"
      },
      "source": [
        "### Results\n",
        "\n",
        "Once you've implemented `q1_b`, execute the cells below to visualize and save your results\n",
        "\n"
      ]
    },
    {
      "cell_type": "code",
      "metadata": {
        "id": "DGYtb_1Tf6nA"
      },
      "source": [
        "q1_save_results(q1_b, 'b')"
      ],
      "execution_count": null,
      "outputs": []
    },
    {
      "cell_type": "markdown",
      "metadata": {
        "id": "PEI31Zh0PE9g"
      },
      "source": [
        "## Bonus 1: Multiscale RealNVP\n",
        "Following the alternating checkerboard, channel squeeze, and channel partition scheme used in https://arxiv.org/abs/1605.08803, learn a multiscale RealNVP model on our CelebA dataset used in Question 3. We expect the same deliverables as in Question 3; additionally, make sure to include analysis on any difference in qualitative or quantitative differences you see in the results."
      ]
    },
    {
      "cell_type": "code",
      "metadata": {
        "id": "jboOas0xXYjG"
      },
      "source": [
        "def b1(train_data, test_data):\n",
        "  \"\"\"\n",
        "  train_data: A (n_train, H, W, 3) uint8 numpy array of quantized images with values in {0, 1, 2, 3}\n",
        "  test_data: A (n_test, H, W, 3) uint8 numpy array of binary images with values in {0, 1, 2, 3}\n",
        "\n",
        "  Returns\n",
        "  - a (# of training iterations,) numpy array of train_losses evaluated every minibatch\n",
        "  - a (# of epochs + 1,) numpy array of test_losses evaluated once at initialization and after each epoch\n",
        "  - a numpy array of size (100, 3, H, W) of samples with values in [0, 1]\n",
        "  - a numpy array of size (30, 3, H, W) of interpolations with values in [0, 1].\n",
        "  \"\"\"\n",
        "  \n",
        "  \"\"\" YOUR CODE HERE \"\"\""
      ],
      "execution_count": null,
      "outputs": []
    },
    {
      "cell_type": "code",
      "metadata": {
        "id": "p8zWH_SnPwcN"
      },
      "source": [
        "q1_save_results(b1, 'bonus1')"
      ],
      "execution_count": null,
      "outputs": []
    },
    {
      "cell_type": "markdown",
      "metadata": {
        "id": "0oMGXWMzP4oO"
      },
      "source": [
        "## Bonus 2: Glow\n",
        "The Glow paper introduces the invertible 1x1 convolution as a replacement for the permutation scheme that follows the channel squeezing step. Use this in your model from Question 3, and report the same deliverables. Make sure to include analysis on any difference in qualitative or quantitative differences you see in the results."
      ]
    },
    {
      "cell_type": "code",
      "metadata": {
        "id": "d-qpWL8XXawq"
      },
      "source": [
        "def b2(train_data, test_data):\n",
        "  \"\"\"\n",
        "  train_data: A (n_train, H, W, 3) uint8 numpy array of quantized images with values in {0, 1, 2, 3}\n",
        "  test_data: A (n_test, H, W, 3) uint8 numpy array of binary images with values in {0, 1, 2, 3}\n",
        "\n",
        "  Returns\n",
        "  - a (# of training iterations,) numpy array of train_losses evaluated every minibatch\n",
        "  - a (# of epochs + 1,) numpy array of test_losses evaluated once at initialization and after each epoch\n",
        "  - a numpy array of size (100, 3, H, W) of samples with values in [0, 1]\n",
        "  - a numpy array of size (30, 3, H, W) of interpolations with values in [0, 1].\n",
        "  \"\"\"\n",
        "  \n",
        "  \"\"\" YOUR CODE HERE \"\"\""
      ],
      "execution_count": null,
      "outputs": []
    },
    {
      "cell_type": "code",
      "metadata": {
        "id": "CbGUrt3NQPWk"
      },
      "source": [
        "q1_save_results(b2, 'bonus2')"
      ],
      "execution_count": null,
      "outputs": []
    }
  ]
}